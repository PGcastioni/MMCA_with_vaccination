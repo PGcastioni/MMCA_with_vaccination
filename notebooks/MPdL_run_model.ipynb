{
 "cells": [
  {
   "cell_type": "code",
   "execution_count": 1,
   "id": "5bd4cc5d",
   "metadata": {
    "ExecuteTime": {
     "end_time": "2023-11-02T17:24:21.308000+01:00",
     "start_time": "2023-11-02T16:24:20.096Z"
    }
   },
   "outputs": [
    {
     "data": {
      "text/plain": [
       "run_epidemic_spreading_mmca!"
      ]
     },
     "metadata": {},
     "output_type": "display_data"
    }
   ],
   "source": [
    "using Printf\n",
    "using ArgParse\n",
    "using Logging\n",
    "\n",
    "using Dates\n",
    "using CSV\n",
    "using NPZ\n",
    "using JSON\n",
    "using HDF5\n",
    "using DataStructures\n",
    "using DelimitedFiles\n",
    "using DataFrames\n",
    "using NetCDF\n",
    "\n",
    "\n",
    "base_folder = \"..\"\n",
    "\n",
    "include(joinpath(base_folder, \"MMCAcovid19_vac/markov_vac_aux.jl\"))\n",
    "include(joinpath(base_folder, \"MMCAcovid19_vac/markov_vac_io.jl\"))\n",
    "include(joinpath(base_folder, \"MMCAcovid19_vac/markov_vac.jl\"))"
   ]
  },
  {
   "cell_type": "code",
   "execution_count": 2,
   "id": "0c306125",
   "metadata": {
    "ExecuteTime": {
     "end_time": "2023-11-02T17:24:23.618000+01:00",
     "start_time": "2023-11-02T16:24:23.313Z"
    }
   },
   "outputs": [
    {
     "data": {
      "text/plain": [
       "set_compartments! (generic function with 1 method)"
      ]
     },
     "metadata": {},
     "output_type": "display_data"
    }
   ],
   "source": [
    "function set_compartments!(epi_params, initial_compartments)\n",
    "    @assert size(initial_compartments) == (size(epi_params.ρˢᵍᵥ)[1], size(epi_params.ρˢᵍᵥ)[2], size(epi_params.ρˢᵍᵥ)[4], 10)\n",
    "    total_population = sum(initial_compartments, dims=(3))[:,:,1]\n",
    "    \n",
    "    # Index of the initial condition\n",
    "    T0 = 1\n",
    "    \n",
    "    epi_params.ρˢᵍᵥ[:,:,T0,:]  .= initial_compartments[:, :, T0, :, 1] ./ total_population\n",
    "    epi_params.ρᴱᵍᵥ[:,:,T0,:]  .= initial_compartments[:, :, T0, :, 2] ./ total_population\n",
    "    epi_params.ρᴬᵍᵥ[:,:,T0,:]  .= initial_compartments[:, :, T0, :, 3] ./ total_population\n",
    "    epi_params.ρᴵᵍᵥ[:,:,T0,:]  .= initial_compartments[:, :, T0, :, 4] ./ total_population\n",
    "    epi_params.ρᴾᴴᵍᵥ[:,:,T0,:] .= initial_compartments[:, :, T0, :, 5] ./ total_population\n",
    "    epi_params.ρᴾᴰᵍᵥ[:,:,T0,:] .= initial_compartments[:, :, T0, :, 6] ./ total_population\n",
    "    epi_params.ρᴴᴿᵍᵥ[:,:,T0,:] .= initial_compartments[:, :, T0, :, 7] ./ total_population\n",
    "    epi_params.ρᴴᴰᵍᵥ[:,:,T0,:] .= initial_compartments[:, :, T0, :, 8] ./ total_population\n",
    "    epi_params.ρᴿᵍᵥ[:,:,T0,:]  .= initial_compartments[:, :, T0, :, 9] ./ total_population\n",
    "    epi_params.ρᴰᵍᵥ[:,:,T0,:]  .= initial_compartments[:, :, T0, :, 10] ./ total_population\n",
    "\n",
    "    epi_params.ρˢᵍᵥ[isnan.(epi_params.ρˢᵍᵥ)] .= 0\n",
    "    epi_params.ρᴱᵍᵥ[isnan.(epi_params.ρᴱᵍᵥ)] .= 0\n",
    "    epi_params.ρᴬᵍᵥ[isnan.(epi_params.ρᴬᵍᵥ)] .= 0\n",
    "    epi_params.ρᴵᵍᵥ[isnan.(epi_params.ρᴵᵍᵥ)] .= 0\n",
    "    epi_params.ρᴾᴴᵍᵥ[isnan.(epi_params.ρᴾᴴᵍᵥ)] .= 0\n",
    "    epi_params.ρᴾᴰᵍᵥ[isnan.(epi_params.ρᴾᴰᵍᵥ)] .= 0\n",
    "    epi_params.ρᴴᴿᵍᵥ[isnan.(epi_params.ρᴴᴿᵍᵥ)] .= 0\n",
    "    epi_params.ρᴴᴰᵍᵥ[isnan.(epi_params.ρᴴᴰᵍᵥ)] .= 0\n",
    "    epi_params.ρᴿᵍᵥ[isnan.(epi_params.ρᴿᵍᵥ)] .= 0\n",
    "    epi_params.ρᴰᵍᵥ[isnan.(epi_params.ρᴰᵍᵥ)] .= 0\n",
    "end"
   ]
  },
  {
   "cell_type": "code",
   "execution_count": 3,
   "id": "92fcf062",
   "metadata": {
    "ExecuteTime": {
     "end_time": "2023-11-02T17:24:26.133000+01:00",
     "start_time": "2023-11-02T16:24:25.596Z"
    }
   },
   "outputs": [
    {
     "name": "stdout",
     "output_type": "stream",
     "text": [
      "first_day_simulation = 2020-02-09\n",
      "last_day_simulation = 2020-08-31\n",
      "export_compartments = true\n",
      "export_compartments_full = true\n",
      "export_compartments_time_t = nothing\n",
      "initial_compartments = nothing\n"
     ]
    }
   ],
   "source": [
    "###########################################\n",
    "############# FILE READING ################\n",
    "###########################################\n",
    "\n",
    "num_compartments = 10\n",
    "\n",
    "\n",
    "config_fname  = \"../test/config.json\"\n",
    "data_path     = \"../data/\"\n",
    "instance_path = \"../test/\"\n",
    "\n",
    "config = JSON.parsefile(config_fname);\n",
    "\n",
    "\n",
    "# Output simulation\n",
    "output_path = joinpath(instance_path, \"output\")\n",
    "\n",
    "vacparams_dict = config[\"vaccination\"]\n",
    "npiparams_dict = config[\"NPI\"]\n",
    "epiparams_dict = config[\"model\"]\n",
    "# first_day      = Date(config[\"simulation\"][\"first_day_simulation\"])\n",
    "# last_day       = Date(config[\"simulation\"][\"last_day_simulation\"])\n",
    "first_day      = Date(\"2020-02-09\")\n",
    "last_day       = Date(\"2020-8-31\")\n",
    "\n",
    "#last_day       = Date(\"2020-12-31\")\n",
    "\n",
    "#T: time steps\n",
    "T = (last_day - first_day).value + 1\n",
    "\n",
    "A0_instance_filename = get(config[\"simulation\"], \"A0_filename\", nothing)\n",
    "A0_instance_filename = joinpath(instance_path, A0_instance_filename)\n",
    "\n",
    "initial_compartments_path = get(config[\"simulation\"], \"initial_compartments\", nothing)\n",
    "\n",
    "if A0_instance_filename !== nothing && initial_compartments_path !== nothing\n",
    "    println(\"ERROR!!!\")\n",
    "end\n",
    "\n",
    "#########################\n",
    "# Simulation output \n",
    "#########################\n",
    "export_compartments_full = get(config[\"simulation\"], \"export_compartments_full\", false)\n",
    "export_compartments_time_t = get(config[\"simulation\"], \"export_compartments_time_t\", nothing)\n",
    "\n",
    "if export_compartments_time_t !== nothing\n",
    "    export_compartments_date = first_day + Day(export_compartments_time_t - 1)\n",
    "end\n",
    "\n",
    "if export_compartments_full || export_compartments_time_t !== nothing\n",
    "    export_compartments = true\n",
    "else\n",
    "    export_compartments = false\n",
    "end\n",
    "\n",
    "println(\"first_day_simulation = \", first_day)\n",
    "println(\"last_day_simulation = \", last_day)\n",
    "println(\"export_compartments = \", export_compartments)\n",
    "println(\"export_compartments_full = \", export_compartments_full)\n",
    "println(\"export_compartments_time_t = \", export_compartments_time_t)\n",
    "println(\"initial_compartments = \", initial_compartments_path)"
   ]
  },
  {
   "cell_type": "code",
   "execution_count": 4,
   "id": "97bce1a5",
   "metadata": {
    "ExecuteTime": {
     "end_time": "2023-11-02T17:24:33.244000+01:00",
     "start_time": "2023-11-02T16:24:29.946Z"
    }
   },
   "outputs": [
    {
     "name": "stdout",
     "output_type": "stream",
     "text": [
      "M = 2850\n",
      "G = 3\n",
      "T = 205\n",
      "V = 2\n",
      "num_compartments : 10\n"
     ]
    }
   ],
   "source": [
    "########################################\n",
    "####### VARIABLES INITIALIZATION #######\n",
    "########################################\n",
    "\n",
    "# Patch surface\n",
    "sᵢ = CSV.read(joinpath(data_path, config[\"data\"][\"surface_filename\"]), DataFrame)[:,\"area\"]\n",
    "# Population info\n",
    "nᵢ_ages = CSV.read(joinpath(data_path, config[\"data\"][\"population_age_filename\"], ), DataFrame);\n",
    "# Patch population by age\n",
    "nᵢᵍ = copy(transpose(Array{Float64,2}(nᵢ_ages[:, epiparams_dict[\"age_labels\"]])))\n",
    "# Total patch population\n",
    "nᵢ = Array{Float64,1}(nᵢ_ages[:,\"Total\"])\n",
    "# Total population\n",
    "total_population = sum(nᵢ)\n",
    "\n",
    "# Age Contact Matrix\n",
    "C = readdlm(joinpath(data_path, config[\"data\"][\"contact_matrix_filename\"]), ',', Float64)\n",
    "# Num. of patches\n",
    "M = length(nᵢ)\n",
    "# Num of stratas\n",
    "G = size(C)[1]\n",
    "# Num. of vaccination statuses Vaccinated/Non-vaccinated\n",
    "V = length(epiparams_dict[\"kᵥ\"])\n",
    "\n",
    "\n",
    "# Loading mobility network\n",
    "network = CSV.read(joinpath(data_path, config[\"data\"][\"mobility_matrix_filename\"]), DataFrame)\n",
    "edgelist = Array{Int64, 2}(network[:, 1:2])\n",
    "Rᵢⱼ = copy(network[:, 3])\n",
    "# Correcting Self Loops\n",
    "edgelist, Rᵢⱼ = correct_self_loops(edgelist, Rᵢⱼ, M)\n",
    "\n",
    "\n",
    "## EPIDEMIC PARAMETERS HUMAN BEHAVIOUR\n",
    "# Average number of contacts per strata\n",
    "kᵍ = Float64.(epiparams_dict[\"kᵍ\"])\n",
    "# Average number of contacts at home per strata\n",
    "kᵍ_h = Float64.(epiparams_dict[\"kᵍ_h\"])\n",
    "# Average number of contacts at work per strata\n",
    "kᵍ_w = Float64.(epiparams_dict[\"kᵍ_w\"])\n",
    "# Degree of mobility per strata\n",
    "pᵍ = Float64.(epiparams_dict[\"pᵍ\"])\n",
    "# Density factor\n",
    "ξ = epiparams_dict[\"σ\"]\n",
    "# Average household size\n",
    "σ = epiparams_dict[\"σ\"]\n",
    "# Check network structure and self-loop correction\n",
    "\n",
    "\n",
    "## EPIDEMIC PARAMETERS TRANSITION RATES\n",
    "# Scaling of the asymptomatic infectivity\n",
    "scale_β = epiparams_dict[\"scale_β\"]\n",
    "# Infectivity of Symptomatic\n",
    "βᴵ = epiparams_dict[\"βᴵ\"]\n",
    "# Infectivity of Asymptomatic\n",
    "βᴬ = scale_β * βᴵ\n",
    "# Exposed rate\n",
    "ηᵍ = Float64.(epiparams_dict[\"ηᵍ\"])\n",
    "# Asymptomatic rate\n",
    "αᵍ = Float64.(epiparams_dict[\"αᵍ\"])\n",
    "# Infectious rate\n",
    "μᵍ = Float64.(epiparams_dict[\"μᵍ\"])\n",
    "\n",
    "\n",
    "## EPIDEMIC PARAMETERS TRANSITION RATES VACCINATION\n",
    "# Direct death probability\n",
    "θᵍ = Float64.(reduce(hcat, [epiparams_dict[\"θᵍ\"], epiparams_dict[\"θᵍ\"] * epiparams_dict[\"risk_reduction_dd\"]]) )\n",
    "# Hospitalization probability\n",
    "γᵍ = Float64.(reduce(hcat, [epiparams_dict[\"γᵍ\"], epiparams_dict[\"γᵍ\"] * epiparams_dict[\"risk_reduction_h\"]]) )\n",
    "# Fatality probability in ICU\n",
    "ωᵍ = Float64.(reduce(hcat, [epiparams_dict[\"ωᵍ\"], epiparams_dict[\"ωᵍ\"] * epiparams_dict[\"risk_reduction_d\"]]) )\n",
    "# Pre-deceased rate\n",
    "ζᵍ = Float64.(epiparams_dict[\"ζᵍ\"])\n",
    "# Pre-hospitalized in ICU rate\n",
    "λᵍ = Float64.(epiparams_dict[\"λᵍ\"])\n",
    "# Death rate in ICU\n",
    "ψᵍ = Float64.(epiparams_dict[\"ψᵍ\"])\n",
    "# ICU discharge rate\n",
    "χᵍ = Float64.(epiparams_dict[\"χᵍ\"])\n",
    "\n",
    "# Waning immunity rate \n",
    "Λ = epiparams_dict[\"Λ\"] \n",
    "# Reinfection rate\n",
    "Γ = epiparams_dict[\"Γ\"] \n",
    "# Relative risk reduction of the probability of infection\n",
    "rᵥ = Float64.(epiparams_dict[\"rᵥ\"])\n",
    "# Relative risk reduction of the probability of transmission\n",
    "kᵥ = Float64.(epiparams_dict[\"kᵥ\"])\n",
    "\n",
    "\n",
    "println(\"M = \", M)\n",
    "println(\"G = \", G)\n",
    "println(\"T = \", T)\n",
    "println(\"V = \", V)\n",
    "println(\"num_compartments : \", num_compartments)"
   ]
  },
  {
   "cell_type": "code",
   "execution_count": 5,
   "id": "4d391707",
   "metadata": {
    "ExecuteTime": {
     "end_time": "2023-11-02T17:24:38.895000+01:00",
     "start_time": "2023-11-02T16:24:37.536Z"
    }
   },
   "outputs": [
    {
     "name": "stdout",
     "output_type": "stream",
     "text": [
      "420[100]\n"
     ]
    },
    {
     "data": {
      "text/plain": [
       "1-element Vector{Float64}:\n",
       " 0.8"
      ]
     },
     "metadata": {},
     "output_type": "display_data"
    }
   ],
   "source": [
    "#########################################################\n",
    "# Vaccination parameters\n",
    "#########################################################\n",
    "\n",
    "if vacparams_dict[\"are_there_vaccines\"]\n",
    "    # vaccionation dates\n",
    "    start_vacc = vacparams_dict[\"start_vacc\"]\n",
    "    dur_vacc   = vacparams_dict[\"dur_vacc\"]\n",
    "    end_vacc   = start_vacc + dur_vacc    \n",
    "    # total vaccinations per age strata\n",
    "    ϵᵍ = vacparams_dict[\"ϵᵍ\"] * round( total_population * vacparams_dict[\"percentage_of_vacc_per_day\"] )\n",
    "    tᵛs = [start_vacc, end_vacc, T]\n",
    "    ϵᵍs = ϵᵍ .* [0  Int(vacparams_dict[\"are_there_vaccines\"])  0]\n",
    "else\n",
    "    tᵛs = [start_vacc, end_vacc, T]\n",
    "    ϵᵍs = ϵᵍ .* [0  Int(vacparams_dict[\"are_there_vaccines\"])  0] \n",
    "end\n",
    "\n",
    "#########################################################\n",
    "# Containement measures\n",
    "#########################################################\n",
    "\n",
    "# Mobility reduction\n",
    "κ₀_df = CSV.read(joinpath(data_path, config[\"data\"][\"kappa0_filename\"]), DataFrame);\n",
    "\n",
    "# syncronize containment measures with simulation\n",
    "κ₀_df.time = map(x -> (x .- first_day).value + 1, κ₀_df.date)\n",
    "\n",
    "# Timesteps when the containment measures will be applied\n",
    "tᶜs = Int64.(npiparams_dict[\"tᶜs\"])\n",
    "\n",
    "println(length(κ₀_df.time), tᶜs)\n",
    "\n",
    "# Array of level of confinement\n",
    "# κ₀s = κ₀_df.reduction[:]\n",
    "κ₀s = Float64.(npiparams_dict[\"κ₀s\"])\n",
    "# Array of permeabilities of confined households\n",
    "ϕs = Float64.(npiparams_dict[\"ϕs\"])\n",
    "# Array of social distancing measures\n",
    "δs = Float64.(npiparams_dict[\"δs\"])"
   ]
  },
  {
   "cell_type": "code",
   "execution_count": 6,
   "id": "efa942c7",
   "metadata": {
    "ExecuteTime": {
     "end_time": "2023-11-02T17:24:56.662000+01:00",
     "start_time": "2023-11-02T16:24:42.249Z"
    }
   },
   "outputs": [
    {
     "ename": "UndefVarError",
     "evalue": "UndefVarError: `t` not defined",
     "output_type": "error",
     "traceback": [
      "UndefVarError: `t` not defined\n",
      "\n",
      "Stacktrace:\n",
      " [1] run_epidemic_spreading_mmca!(epi_params::Epidemic_Params, population::Population_Params, tᶜs::Vector{Int64}, tᵛs::Vector{Int64}, κ₀s::Vector{Float64}, ϕs::Vector{Float64}, δs::Vector{Float64}, ϵᵍs::Matrix{Float64}; t₀::Int64, verbose::Bool)\n",
      "   @ Main ~/Documents/MMCA_with_vaccination/MMCAcovid19_vac/markov_vac.jl:636\n",
      " [2] top-level scope\n",
      "   @ ~/Documents/MMCA_with_vaccination/notebooks/MPdL_run_model.ipynb:46"
     ]
    }
   ],
   "source": [
    "##################################################\n",
    "####### INITIALIZATION OF THE EPIDEMICS ##########\n",
    "##################################################\n",
    "\n",
    "# structs to store parameters\n",
    "population = Population_Params(G, M, nᵢᵍ, kᵍ, kᵍ_h, kᵍ_w, C, pᵍ, edgelist, Rᵢⱼ, sᵢ, ξ, σ)\n",
    "epi_params = Epidemic_Params(βᴵ,  βᴬ, ηᵍ, αᵍ, μᵍ, θᵍ, γᵍ, ζᵍ, λᵍ, ωᵍ, ψᵍ, χᵍ, Λ, Γ, rᵥ, kᵥ, G, M, T, V)\n",
    "\n",
    "\n",
    "# Initial seeds (intial condition at the begining of the pandemic)\n",
    "# Load initial full conditions\n",
    "if initial_compartments_path !== nothing\n",
    "    # use initial compartments matrix to initialize simulations\n",
    "    initial_compartments = h5open(initial_compartments_path, \"r\") do file\n",
    "        read(file, \"compartments\")\n",
    "    end\n",
    "    # set the full initial condition o a user defined\n",
    "    set_compartments!(epi_params, initial_compartments)\n",
    "else\n",
    "    Sᵛ₀ = zeros(Float64, G, M)\n",
    "    E₀  = zeros(Float64, G, M)\n",
    "    A₀  = zeros(Float64, G, M)\n",
    "    I₀  = zeros(Float64, G, M)\n",
    "    H₀  = zeros(Float64, G, M)\n",
    "    R₀  = zeros(Float64, G, M)\n",
    "    if A0_instance_filename !== nothing\n",
    "        # Initial number of infectious asymptomatic individuals\n",
    "        # use seeds to initialize simulations\n",
    "        conditions₀ = CSV.read(A0_instance_filename, DataFrame)        \n",
    "        A₀[1, Int.(conditions₀[:,\"idx\"])] .= 0.12 .* conditions₀[:,\"seed\"]\n",
    "        A₀[2, Int.(conditions₀[:,\"idx\"])] .= 0.16 .* conditions₀[:,\"seed\"]\n",
    "        A₀[3, Int.(conditions₀[:,\"idx\"])] .= 0.72 .* conditions₀[:,\"seed\"]    \n",
    "    else\n",
    "        # Initial set custom number of infected\n",
    "        E₀ = nᵢᵍ / total_population * 1000\n",
    "        A₀ = nᵢᵍ / total_population * 1000\n",
    "        I₀ = nᵢᵍ / total_population * 1000    \n",
    "    end\n",
    "    set_initial_conditions!(epi_params, population, Sᵛ₀, E₀, A₀, I₀, H₀, R₀)\n",
    "end\n",
    "\n",
    "########################################################\n",
    "################ RUN THE SIMULATION ####################\n",
    "########################################################\n",
    "\n",
    "run_epidemic_spreading_mmca!(epi_params, population, tᶜs, tᵛs, κ₀s, ϕs, δs, ϵᵍs; verbose = true )"
   ]
  },
  {
   "cell_type": "code",
   "execution_count": 7,
   "id": "c198cdd0",
   "metadata": {},
   "outputs": [
    {
     "name": "stdout",
     "output_type": "stream",
     "text": [
      "Storing full compartments:\n",
      "\t- filename: ../test/output/compartments_full.h5\n"
     ]
    }
   ],
   "source": [
    "if export_compartments\n",
    "    if !isdir(output_path)\n",
    "        println(\"Creating output folder: $output_path\")\n",
    "        mkpath(output_path)\n",
    "    end\n",
    "\n",
    "    # array for storing output\n",
    "    compartments = zeros(Float64, G, M, T, V, num_compartments);\n",
    "    compartments[:, :, :, :, 1]  .= epi_params.ρˢᵍᵥ .* population.nᵢᵍ\n",
    "    compartments[:, :, :, :, 2]  .= epi_params.ρᴱᵍᵥ .* population.nᵢᵍ\n",
    "    compartments[:, :, :, :, 3]  .= epi_params.ρᴬᵍᵥ .* population.nᵢᵍ\n",
    "    compartments[:, :, :, :, 4]  .= epi_params.ρᴵᵍᵥ .* population.nᵢᵍ\n",
    "    compartments[:, :, :, :, 5]  .= epi_params.ρᴾᴴᵍᵥ .* population.nᵢᵍ\n",
    "    compartments[:, :, :, :, 6]  .= epi_params.ρᴾᴰᵍᵥ .* population.nᵢᵍ\n",
    "    compartments[:, :, :, :, 7]  .= epi_params.ρᴴᴿᵍᵥ .* population.nᵢᵍ\n",
    "    compartments[:, :, :, :, 8]  .= epi_params.ρᴴᴰᵍᵥ .* population.nᵢᵍ\n",
    "    compartments[:, :, :, :, 9]  .= epi_params.ρᴿᵍᵥ .* population.nᵢᵍ\n",
    "    compartments[:, :, :, :, 10] .= epi_params.ρᴰᵍᵥ .* population.nᵢᵍ\n",
    "    if export_compartments_time_t != nothing\n",
    "        filename = joinpath(output_path, \"compartments_$(export_compartments_date)_step_$(export_compartments_time_t).h5\")\n",
    "        println(\"Storing compartments at single date $(export_compartments_date):\")\n",
    "        println(\"\\t- Simulation step: $(export_compartments_time_t)\")\n",
    "        println(\"\\t- filename: $(filename)\")\n",
    "        h5open(filename, \"w\") do file\n",
    "            write(file, \"compartments\", compartments[:,:,export_compartments_time_t,:,:])\n",
    "        end\n",
    "    end\n",
    "\n",
    "    if export_compartments_full\n",
    "        filename = joinpath(output_path, \"compartments_full.h5\")\n",
    "        println(\"Storing full compartments:\")\n",
    "        println(\"\\t- filename: $(filename)\")\n",
    "        h5open(filename, \"w\") do file\n",
    "            write(file, \"compartments\", compartments[:,:,:,:,:])\n",
    "        end\n",
    "    end\n",
    "end"
   ]
  },
  {
   "cell_type": "code",
   "execution_count": 8,
   "id": "d9072f98",
   "metadata": {
    "ExecuteTime": {
     "end_time": "2023-11-02T17:25:36.146000+01:00",
     "start_time": "2023-11-02T16:25:36.104Z"
    }
   },
   "outputs": [],
   "source": [
    "compartments = zeros(Float64, G, M, T, V, num_compartments);\n",
    "compartments[:, :, :, :, 1]  .= epi_params.ρˢᵍᵥ .* population.nᵢᵍ\n",
    "compartments[:, :, :, :, 2]  .= epi_params.ρᴱᵍᵥ .* population.nᵢᵍ\n",
    "compartments[:, :, :, :, 3]  .= epi_params.ρᴬᵍᵥ .* population.nᵢᵍ\n",
    "compartments[:, :, :, :, 4]  .= epi_params.ρᴵᵍᵥ .* population.nᵢᵍ\n",
    "compartments[:, :, :, :, 5]  .= epi_params.ρᴾᴴᵍᵥ .* population.nᵢᵍ\n",
    "compartments[:, :, :, :, 6]  .= epi_params.ρᴾᴰᵍᵥ .* population.nᵢᵍ\n",
    "compartments[:, :, :, :, 7]  .= epi_params.ρᴴᴿᵍᵥ .* population.nᵢᵍ\n",
    "compartments[:, :, :, :, 8]  .= epi_params.ρᴴᴰᵍᵥ .* population.nᵢᵍ\n",
    "compartments[:, :, :, :, 9]  .= epi_params.ρᴿᵍᵥ .* population.nᵢᵍ\n",
    "compartments[:, :, :, :, 10] .= epi_params.ρᴰᵍᵥ .* population.nᵢᵍ;"
   ]
  },
  {
   "cell_type": "markdown",
   "metadata": {},
   "source": [
    "SAVE THE RESULTS OF THE SIMULATION IN A NetCDF file"
   ]
  },
  {
   "cell_type": "code",
   "execution_count": 9,
   "id": "ccf98290",
   "metadata": {
    "ExecuteTime": {
     "end_time": "2023-11-02T17:35:05.355000+01:00",
     "start_time": "2023-11-02T16:35:05.280Z"
    }
   },
   "outputs": [],
   "source": [
    "G_coords = [\"C\", \"A\", \"I\"]\n",
    "M_coords = collect(1:M)\n",
    "T_coords = collect(1:T)\n",
    "V_coords = [\"NV\", \"V\"]\n",
    "comp_coords = [\"S\", \"E\", \"A\", \"I\", \"PH\", \"PD\", \"HR\", \"HD\", \"R\", \"D\"];\n",
    "\n",
    "file = \"tes1.nc\"\n",
    "isfile(file) && rm(file)\n",
    "\n",
    "nccreate(file, \"data\", \"G\", G_coords, \"M\", M_coords, \"T\", T_coords, \"V\", V_coords, \"epi_states\", comp_coords)\n",
    "\n",
    "ncwrite(compartments, file, \"data\")"
   ]
  }
 ],
 "metadata": {
  "kernelspec": {
   "display_name": "Julia 1.9.3",
   "language": "julia",
   "name": "julia-1.9"
  },
  "language_info": {
   "file_extension": ".jl",
   "mimetype": "application/julia",
   "name": "julia",
   "version": "1.9.3"
  }
 },
 "nbformat": 4,
 "nbformat_minor": 5
}
