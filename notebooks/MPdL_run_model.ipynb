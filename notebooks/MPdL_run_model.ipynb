{
 "cells": [
  {
   "cell_type": "code",
   "execution_count": 5,
   "id": "5bd4cc5d",
   "metadata": {
    "ExecuteTime": {
     "end_time": "2023-11-02T17:24:21.308000+01:00",
     "start_time": "2023-11-02T16:24:20.096Z"
    }
   },
   "outputs": [
    {
     "data": {
      "text/plain": [
       "run_epidemic_spreading_mmca!"
      ]
     },
     "execution_count": 5,
     "metadata": {},
     "output_type": "execute_result"
    }
   ],
   "source": [
    "using Printf\n",
    "using ArgParse\n",
    "using Logging\n",
    "\n",
    "using Dates\n",
    "using CSV\n",
    "using NPZ\n",
    "using JSON\n",
    "using HDF5\n",
    "using DataStructures\n",
    "using DelimitedFiles\n",
    "using DataFrames\n",
    "using NetCDF\n",
    "\n",
    "\n",
    "base_folder = \"..\"\n",
    "\n",
    "include(joinpath(base_folder, \"MMCAcovid19_vac/markov_vac_aux.jl\"))\n",
    "include(joinpath(base_folder, \"MMCAcovid19_vac/markov_vac_io.jl\"))\n",
    "include(joinpath(base_folder, \"MMCAcovid19_vac/markov_vac.jl\"))"
   ]
  },
  {
   "cell_type": "code",
   "execution_count": 6,
   "id": "0c306125",
   "metadata": {
    "ExecuteTime": {
     "end_time": "2023-11-02T17:24:23.618000+01:00",
     "start_time": "2023-11-02T16:24:23.313Z"
    }
   },
   "outputs": [
    {
     "data": {
      "text/plain": [
       "set_compartments! (generic function with 1 method)"
      ]
     },
     "execution_count": 6,
     "metadata": {},
     "output_type": "execute_result"
    }
   ],
   "source": [
    "function set_compartments!(epi_params, initial_compartments)\n",
    "    @assert size(initial_compartments) == (size(epi_params.ρˢᵍᵥ)[1], size(epi_params.ρˢᵍᵥ)[2], size(epi_params.ρˢᵍᵥ)[4], 10)\n",
    "    total_population = sum(initial_compartments, dims=(3))[:,:,1]\n",
    "    \n",
    "    # Index of the initial condition\n",
    "    T0 = 1\n",
    "    \n",
    "    epi_params.ρˢᵍᵥ[:,:,T0,:]  .= initial_compartments[:, :, T0, :, 1] ./ total_population\n",
    "    epi_params.ρᴱᵍᵥ[:,:,T0,:]  .= initial_compartments[:, :, T0, :, 2] ./ total_population\n",
    "    epi_params.ρᴬᵍᵥ[:,:,T0,:]  .= initial_compartments[:, :, T0, :, 3] ./ total_population\n",
    "    epi_params.ρᴵᵍᵥ[:,:,T0,:]  .= initial_compartments[:, :, T0, :, 4] ./ total_population\n",
    "    epi_params.ρᴾᴴᵍᵥ[:,:,T0,:] .= initial_compartments[:, :, T0, :, 5] ./ total_population\n",
    "    epi_params.ρᴾᴰᵍᵥ[:,:,T0,:] .= initial_compartments[:, :, T0, :, 6] ./ total_population\n",
    "    epi_params.ρᴴᴿᵍᵥ[:,:,T0,:] .= initial_compartments[:, :, T0, :, 7] ./ total_population\n",
    "    epi_params.ρᴴᴰᵍᵥ[:,:,T0,:] .= initial_compartments[:, :, T0, :, 8] ./ total_population\n",
    "    epi_params.ρᴿᵍᵥ[:,:,T0,:]  .= initial_compartments[:, :, T0, :, 9] ./ total_population\n",
    "    epi_params.ρᴰᵍᵥ[:,:,T0,:]  .= initial_compartments[:, :, T0, :, 10] ./ total_population\n",
    "\n",
    "    epi_params.ρˢᵍᵥ[isnan.(epi_params.ρˢᵍᵥ)] .= 0\n",
    "    epi_params.ρᴱᵍᵥ[isnan.(epi_params.ρᴱᵍᵥ)] .= 0\n",
    "    epi_params.ρᴬᵍᵥ[isnan.(epi_params.ρᴬᵍᵥ)] .= 0\n",
    "    epi_params.ρᴵᵍᵥ[isnan.(epi_params.ρᴵᵍᵥ)] .= 0\n",
    "    epi_params.ρᴾᴴᵍᵥ[isnan.(epi_params.ρᴾᴴᵍᵥ)] .= 0\n",
    "    epi_params.ρᴾᴰᵍᵥ[isnan.(epi_params.ρᴾᴰᵍᵥ)] .= 0\n",
    "    epi_params.ρᴴᴿᵍᵥ[isnan.(epi_params.ρᴴᴿᵍᵥ)] .= 0\n",
    "    epi_params.ρᴴᴰᵍᵥ[isnan.(epi_params.ρᴴᴰᵍᵥ)] .= 0\n",
    "    epi_params.ρᴿᵍᵥ[isnan.(epi_params.ρᴿᵍᵥ)] .= 0\n",
    "    epi_params.ρᴰᵍᵥ[isnan.(epi_params.ρᴰᵍᵥ)] .= 0\n",
    "end"
   ]
  },
  {
   "cell_type": "code",
   "execution_count": 18,
   "id": "92fcf062",
   "metadata": {
    "ExecuteTime": {
     "end_time": "2023-11-02T17:24:26.133000+01:00",
     "start_time": "2023-11-02T16:24:25.596Z"
    }
   },
   "outputs": [
    {
     "name": "stdout",
     "output_type": "stream",
     "text": [
      "first_day_simulation = 2020-02-09\n",
      "last_day_simulation = 2020-03-01\n",
      "export_compartments_full = true\n",
      "export_compartments_time_t = 15\n",
      "initial_compartments = nothing\n"
     ]
    }
   ],
   "source": [
    "###########################################\n",
    "############# FILE READING ################\n",
    "###########################################\n",
    "\n",
    "data_path     = \"../data/\"\n",
    "instance_path = \"../test/\"\n",
    "config_fname  = \"../test/config_test.json\"\n",
    "\n",
    "config = JSON.parsefile(config_fname);\n",
    "\n",
    "\n",
    "# Output simulation\n",
    "output_path = joinpath(instance_path, \"output\")\n",
    "\n",
    "data_dict        = config[\"data\"]\n",
    "epi_params_dict  = config[\"epidemic_params\"]\n",
    "pop_params_dict  = config[\"population_params\"]\n",
    "vac_params_dict  = config[\"vaccination\"]\n",
    "npi_params_dict  = config[\"NPI\"]\n",
    "# first_day      = Date(config[\"simulation\"][\"first_day_simulation\"])\n",
    "# last_day       = Date(config[\"simulation\"][\"last_day_simulation\"])\n",
    "first_day      = Date(\"2020-02-09\")\n",
    "last_day       = Date(\"2020-03-01\")\n",
    "\n",
    "#last_day       = Date(\"2020-12-31\")\n",
    "\n",
    "#T: time steps\n",
    "T = (last_day - first_day).value + 1\n",
    "T_coords = string.(collect(first_day:last_day))\n",
    "\n",
    "A0_instance_filename = get(config[\"simulation\"], \"A0_filename\", nothing)\n",
    "A0_instance_filename = joinpath(instance_path, A0_instance_filename)\n",
    "\n",
    "initial_compartments_path = get(config[\"simulation\"], \"initial_compartments\", nothing)\n",
    "\n",
    "if A0_instance_filename !== nothing && initial_compartments_path !== nothing\n",
    "    println(\"ERROR!!!\")\n",
    "end\n",
    "\n",
    "\n",
    "export_compartments_full = get(config[\"simulation\"], \"export_compartments_full\", false)\n",
    "export_compartments_time_t = get(config[\"simulation\"], \"export_compartments_time_t\", nothing)\n",
    "\n",
    "println(\"first_day_simulation = \", first_day)\n",
    "println(\"last_day_simulation = \", last_day)\n",
    "println(\"export_compartments_full = \", export_compartments_full)\n",
    "println(\"export_compartments_time_t = \", export_compartments_time_t)\n",
    "println(\"initial_compartments = \", initial_compartments_path)"
   ]
  },
  {
   "cell_type": "code",
   "execution_count": 19,
   "id": "97bce1a5",
   "metadata": {
    "ExecuteTime": {
     "end_time": "2023-11-02T17:24:33.244000+01:00",
     "start_time": "2023-11-02T16:24:29.946Z"
    }
   },
   "outputs": [
    {
     "data": {
      "text/plain": [
       "2"
      ]
     },
     "execution_count": 19,
     "metadata": {},
     "output_type": "execute_result"
    }
   ],
   "source": [
    "metapop_data_filename    = joinpath(data_path, data_dict[\"metapopulation_data_filename\"])\n",
    "metapop_df = CSV.read(metapop_data_filename, DataFrame)\n",
    "\n",
    "# Loading mobility network\n",
    "mobility_matrix_filename = joinpath(data_path, data_dict[\"mobility_matrix_filename\"])\n",
    "network_df  = CSV.read(mobility_matrix_filename, DataFrame)\n",
    "\n",
    "# Metapopulations patches coordinates (labels)\n",
    "M_coords = map(String,metapop_df[:, \"id\"])\n",
    "M = length(M_coords)\n",
    "\n",
    "# Coordinates for each age strata (labels)\n",
    "G_coords = map(String, pop_params_dict[\"age_labels\"])\n",
    "G = length(G_coords)\n"
   ]
  },
  {
   "cell_type": "code",
   "execution_count": 20,
   "id": "9b5352a5-4f72-4ac2-aa56-65bac8a01890",
   "metadata": {},
   "outputs": [
    {
     "data": {
      "text/plain": [
       "4.6378115e7"
      ]
     },
     "execution_count": 20,
     "metadata": {},
     "output_type": "execute_result"
    }
   ],
   "source": [
    "##################################################\n",
    "####### INITIALIZATION OF THE EPIDEMICS ##########\n",
    "##################################################\n",
    "\n",
    "## POPULATION PARAMETERS\n",
    "population = init_pop_param_struct(G, M, G_coords, pop_params_dict, metapop_df, network_df)\n",
    "## EPIDEMIC PARAMETERS \n",
    "epi_params = init_epi_parameters_struct(G, M, G_coords, epi_params_dict)\n",
    "## TOTAL POPULATION\n",
    "total_population = sum(population.nᵢᵍ)"
   ]
  },
  {
   "cell_type": "code",
   "execution_count": 21,
   "id": "4d391707",
   "metadata": {
    "ExecuteTime": {
     "end_time": "2023-11-02T17:24:38.895000+01:00",
     "start_time": "2023-11-02T16:24:37.536Z"
    }
   },
   "outputs": [
    {
     "data": {
      "text/plain": [
       "3×3 Matrix{Float64}:\n",
       " 0.0  0.0  0.0\n",
       " 0.0  0.0  0.0\n",
       " 0.0  0.0  0.0"
      ]
     },
     "execution_count": 21,
     "metadata": {},
     "output_type": "execute_result"
    }
   ],
   "source": [
    "#########################################################\n",
    "# Vaccination parameters\n",
    "#########################################################\n",
    "\n",
    "# vaccionation dates\n",
    "start_vacc = vac_params_dict[\"start_vacc\"]\n",
    "dur_vacc   = vac_params_dict[\"dur_vacc\"]\n",
    "end_vacc   = start_vacc + dur_vacc\n",
    "\n",
    "# total vaccinations per age strata\n",
    "ϵᵍ = vac_params_dict[\"ϵᵍ\"] * round( total_population * vac_params_dict[\"percentage_of_vacc_per_day\"] )\n",
    "\n",
    "tᵛs = [start_vacc, end_vacc, T]\n",
    "ϵᵍs = ϵᵍ .* [0  Int(vac_params_dict[\"are_there_vaccines\"])  0] "
   ]
  },
  {
   "cell_type": "code",
   "execution_count": 22,
   "id": "efa942c7",
   "metadata": {
    "ExecuteTime": {
     "end_time": "2023-11-02T17:24:56.662000+01:00",
     "start_time": "2023-11-02T16:24:42.249Z"
    }
   },
   "outputs": [
    {
     "data": {
      "text/plain": [
       "1-element Vector{Float64}:\n",
       " 0.8"
      ]
     },
     "execution_count": 22,
     "metadata": {},
     "output_type": "execute_result"
    }
   ],
   "source": [
    "#########################################################\n",
    "# Containment measures\n",
    "#########################################################\n",
    "\n",
    "# Mobility reduction\n",
    "κ₀_df = CSV.read(joinpath(data_path, config[\"data\"][\"kappa0_filename\"]), DataFrame);\n",
    "\n",
    "# syncronize containment measures with simulation\n",
    "κ₀_df.time = map(x -> (x .- first_day).value + 1, κ₀_df.date)\n",
    "\n",
    "# Timesteps when the containment measures will be applied\n",
    "tᶜs = Int64.(npi_params_dict[\"tᶜs\"])\n",
    "\n",
    "# Array of level of confinement\n",
    "# κ₀s = κ₀_df.reduction[:]\n",
    "κ₀s = Float64.(npi_params_dict[\"κ₀s\"])\n",
    "\n",
    "# Array of premeabilities of confined households\n",
    "ϕs = Float64.(npi_params_dict[\"ϕs\"])\n",
    "# Array of social distancing measures\n",
    "δs = Float64.(npi_params_dict[\"δs\"])"
   ]
  },
  {
   "cell_type": "code",
   "execution_count": 23,
   "id": "c198cdd0",
   "metadata": {},
   "outputs": [
    {
     "name": "stdout",
     "output_type": "stream",
     "text": [
      "M = 2850\n",
      "G = 3\n",
      "T = 22\n",
      "V = 2\n",
      "N. of epi compartments = 10\n"
     ]
    }
   ],
   "source": [
    "\n",
    "println(\"M = \", M)\n",
    "println(\"G = \", G)\n",
    "println(\"T = \", T)\n",
    "println(\"V = \", V)\n",
    "println(\"N. of epi compartments = \", epi_params.NumComps)\n",
    "\n",
    "# vac_parms = Vaccination_Params(tᵛs, ϵᵍs)\n",
    "# npi_params = NPI_Params(tᶜs, κ₀s, ϕs, δs)\n",
    "# run_epidemic_spreading_mmca!(epi_params, population, npi_params, vac_parms; verbose = true )\n",
    "\n",
    "# Initial seeds (intial condition at the begining of the pandemic)\n",
    "# Load initial full conditions\n",
    "if initial_compartments_path !== nothing\n",
    "    # use initial compartments matrix to initialize simulations\n",
    "    initial_compartments = h5open(initial_compartments_path, \"r\") do file\n",
    "        read(file, \"compartments\")\n",
    "    end\n",
    "    # set the full initial condition o a user defined\n",
    "    set_compartments!(epi_params, initial_compartments)\n",
    "else\n",
    "    Sᵛ₀ = zeros(Float64, G, M)\n",
    "    E₀  = zeros(Float64, G, M)\n",
    "    A₀  = zeros(Float64, G, M)\n",
    "    I₀  = zeros(Float64, G, M)\n",
    "    H₀  = zeros(Float64, G, M)\n",
    "    R₀  = zeros(Float64, G, M)\n",
    "    if A0_instance_filename !== nothing\n",
    "        # Initial number of infectious asymptomatic individuals\n",
    "        # use seeds to initialize simulations\n",
    "        conditions₀ = CSV.read(A0_instance_filename, DataFrame)        \n",
    "        A₀[1, Int.(conditions₀[:,\"idx\"])] .= 0.12 .* conditions₀[:,\"seed\"]\n",
    "        A₀[2, Int.(conditions₀[:,\"idx\"])] .= 0.16 .* conditions₀[:,\"seed\"]\n",
    "        A₀[3, Int.(conditions₀[:,\"idx\"])] .= 0.72 .* conditions₀[:,\"seed\"]    \n",
    "    else\n",
    "        # Initial set custom number of infected\n",
    "        E₀ = nᵢᵍ / total_population * 1000\n",
    "        A₀ = nᵢᵍ / total_population * 1000\n",
    "        I₀ = nᵢᵍ / total_population * 1000    \n",
    "    end\n",
    "    set_initial_conditions!(epi_params, population, Sᵛ₀, E₀, A₀, I₀, H₀, R₀)\n",
    "end"
   ]
  },
  {
   "cell_type": "code",
   "execution_count": 24,
   "id": "d9072f98",
   "metadata": {
    "ExecuteTime": {
     "end_time": "2023-11-02T17:25:36.146000+01:00",
     "start_time": "2023-11-02T16:25:36.104Z"
    }
   },
   "outputs": [
    {
     "name": "stdout",
     "output_type": "stream",
     "text": [
      "Time: 1, players: 46378115.00000, icus: 0.00, deaths: 0.00, vaccine_check: 0.000\n",
      "Time: 2, players: 46378115.00000, icus: 0.00, deaths: 0.00, vaccine_check: 0.000\n",
      "Time: 3, players: 46378115.00000, icus: 0.00, deaths: 0.00, vaccine_check: 0.000\n",
      "Time: 4, players: 46378115.00000, icus: 1.74, deaths: 0.00, vaccine_check: 0.000\n",
      "Time: 5, players: 46378115.00000, icus: 3.42, deaths: 0.07, vaccine_check: 0.000\n",
      "Time: 6, players: 46378115.00000, icus: 4.85, deaths: 0.21, vaccine_check: 0.000\n",
      "Time: 7, players: 46378115.00000, icus: 6.08, deaths: 0.40, vaccine_check: 0.000\n",
      "Time: 8, players: 46378115.00000, icus: 7.21, deaths: 0.62, vaccine_check: 0.000\n",
      "Time: 9, players: 46378115.00000, icus: 8.36, deaths: 0.86, vaccine_check: 0.000\n",
      "Time: 10, players: 46378115.00000, icus: 9.66, deaths: 1.13, vaccine_check: 0.000\n",
      "Time: 11, players: 46378115.00000, icus: 11.27, deaths: 1.42, vaccine_check: 0.000\n",
      "Time: 12, players: 46378115.00000, icus: 13.37, deaths: 1.74, vaccine_check: 0.000\n",
      "Time: 13, players: 46378115.00000, icus: 16.18, deaths: 2.09, vaccine_check: 0.000\n",
      "Time: 14, players: 46378115.00000, icus: 20.02, deaths: 2.50, vaccine_check: 0.000\n",
      "Time: 15, players: 46378115.00000, icus: 25.28, deaths: 2.99, vaccine_check: 0.000\n",
      "Time: 16, players: 46378115.00000, icus: 32.48, deaths: 3.60, vaccine_check: 0.000\n",
      "Time: 17, players: 46378115.00000, icus: 42.34, deaths: 4.36, vaccine_check: 0.000\n",
      "Time: 18, players: 46378115.00000, icus: 55.81, deaths: 5.34, vaccine_check: 0.000\n",
      "Time: 19, players: 46378115.00000, icus: 74.17, deaths: 6.63, vaccine_check: 0.000\n",
      "Time: 20, players: 46378115.00000, icus: 99.17, deaths: 8.33, vaccine_check: 0.000\n",
      "Time: 21, players: 46378115.00000, icus: 133.14, deaths: 10.62, vaccine_check: 0.000\n",
      "Time: 22, players: 46378115.00000, icus: 179.23, deaths: 13.70, vaccine_check: 0.000\n"
     ]
    }
   ],
   "source": [
    "########################################################\n",
    "################ RUN THE SIMULATION ####################\n",
    "########################################################\n",
    "\n",
    "run_epidemic_spreading_mmca!(epi_params, population, tᶜs, tᵛs, κ₀s, ϕs, δs, ϵᵍs; verbose = true )"
   ]
  },
  {
   "cell_type": "markdown",
   "id": "ea7425f5",
   "metadata": {},
   "source": [
    "SAVE THE RESULTS OF THE SIMULATION IN A NetCDF file"
   ]
  },
  {
   "cell_type": "code",
   "execution_count": 57,
   "id": "ccf98290",
   "metadata": {
    "ExecuteTime": {
     "end_time": "2023-11-02T17:35:05.355000+01:00",
     "start_time": "2023-11-02T16:35:05.280Z"
    }
   },
   "outputs": [],
   "source": [
    "##############################################################\n",
    "################## STORING THE RESULTS #######################\n",
    "##############################################################\n",
    "end\n",
    "\n",
    "\n",
    "filename = joinpath(output_path, \"compartments_full.nc\")\n",
    "save_simulation_netCDF2(epi_params, population, filename;G_coords=G_coords, M_coords=M_coords, T_coords=T_coords)"
   ]
  },
  {
   "cell_type": "code",
   "execution_count": 53,
   "id": "084c3d38-c03f-428e-b7e5-8306084bda2d",
   "metadata": {},
   "outputs": [
    {
     "name": "stdout",
     "output_type": "stream",
     "text": [
      "Positional Argument 1: Value1\n",
      "Positional Argument 2: Value2\n",
      "Keyword Argument 1: Custom1\n",
      "Keyword Argument 2: Custom2\n",
      "Positional Argument 1: Value1\n",
      "Positional Argument 2: Value2\n",
      "Keyword Argument 1: Not provided\n",
      "Keyword Argument 2: Not provided\n"
     ]
    }
   ],
   "source": []
  }
 ],
 "metadata": {
  "kernelspec": {
   "display_name": "Julia 1.9.3",
   "language": "julia",
   "name": "julia-1.9"
  },
  "language_info": {
   "file_extension": ".jl",
   "mimetype": "application/julia",
   "name": "julia",
   "version": "1.9.3"
  }
 },
 "nbformat": 4,
 "nbformat_minor": 5
}
