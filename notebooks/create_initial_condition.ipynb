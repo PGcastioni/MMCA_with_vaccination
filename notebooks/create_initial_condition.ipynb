{
 "cells": [
  {
   "cell_type": "code",
   "execution_count": 1,
   "id": "e6fbeea4-07a5-497e-87f7-81564178a887",
   "metadata": {},
   "outputs": [],
   "source": [
    "using Printf\n",
    "using ArgParse\n",
    "using Logging\n",
    "\n",
    "using Dates\n",
    "using CSV\n",
    "using NPZ\n",
    "using JSON\n",
    "using HDF5\n",
    "using DataStructures\n",
    "using DelimitedFiles\n",
    "using DataFrames\n",
    "using NetCDF"
   ]
  },
  {
   "cell_type": "code",
   "execution_count": 2,
   "id": "52067caa-64c9-4b5b-a5aa-754450c6afab",
   "metadata": {},
   "outputs": [
    {
     "data": {
      "text/plain": [
       "run_epidemic_spreading_mmca!"
      ]
     },
     "execution_count": 2,
     "metadata": {},
     "output_type": "execute_result"
    }
   ],
   "source": [
    "base_folder = \"..\"\n",
    "\n",
    "include(joinpath(base_folder, \"MMCAcovid19_vac/markov_vac_aux.jl\"))\n",
    "include(joinpath(base_folder, \"MMCAcovid19_vac/markov_vac_io.jl\"))\n",
    "include(joinpath(base_folder, \"MMCAcovid19_vac/markov_vac.jl\"))"
   ]
  },
  {
   "cell_type": "code",
   "execution_count": 79,
   "id": "3661ef16-26e7-4dba-a6df-65b8cca0c5b2",
   "metadata": {},
   "outputs": [
    {
     "data": {
      "text/plain": [
       "1×3 Matrix{Float64}:\n",
       " 0.191595  0.540813  0.191595"
      ]
     },
     "execution_count": 79,
     "metadata": {},
     "output_type": "execute_result"
    }
   ],
   "source": [
    "data_path       = \"../data/\"\n",
    "config_fname    = \"../test/config_test.json\"\n",
    "config          = JSON.parsefile(config_fname);\n",
    "data_dict       = config[\"data\"]\n",
    "pop_params_dict = config[\"population_params\"]\n",
    "\n",
    "# Reading metapopulation Dataframe\n",
    "metapop_data_filename = joinpath(data_path, data_dict[\"metapopulation_data_filename\"])\n",
    "metapop_df            = CSV.read(metapop_data_filename, DataFrame)\n",
    "\n",
    "# Metapopulations patches coordinates (labels)\n",
    "M_coords = map(String, metapop_df[:, \"id\"])\n",
    "M = length(M_coords)\n",
    "\n",
    "# Coordinates for each age strata (labels)\n",
    "G_coords = map(String, pop_params_dict[\"age_labels\"])\n",
    "G = length(G_coords)\n",
    "\n",
    "# Coordinates for eacn vaccination status\n",
    "V = 2\n",
    "V_coords = [\"NV\", \"V\"]\n",
    "\n",
    "N = 10\n",
    "comp_coords = [\"S\", \"E\", \"A\", \"I\", \"PH\", \"PD\", \"HR\", \"HD\", \"R\", \"D\"]\n",
    "\n",
    "# Loading initial \n",
    "A0_instance_filename = joinpath(data_path, \"A0_initial_conditions.csv\")\n",
    "\n",
    "conditions₀ = CSV.read(A0_instance_filename, DataFrame);\n",
    "\n",
    "seeds_age_ratio = [0.12, 0.16, 0.72] # Where this is comming from?\n",
    "\n",
    "\n",
    "Y_ratio = sum(metapop_df.Y) / sum(metapop_df.Total)\n",
    "M_ratio = sum(metapop_df.M) / sum(metapop_df.Total)\n",
    "O_ratio = sum(metapop_df.O) / sum(metapop_df.Total)\n",
    "\n",
    "[Y_ratio M_ratio Y_ratio]"
   ]
  },
  {
   "cell_type": "code",
   "execution_count": 82,
   "id": "3957bd90-e635-45d7-946d-370c7ff0c68c",
   "metadata": {},
   "outputs": [
    {
     "data": {
      "text/plain": [
       "145.2"
      ]
     },
     "execution_count": 82,
     "metadata": {},
     "output_type": "execute_result"
    }
   ],
   "source": [
    "A₀_idx = 3\n",
    "V_idx  = 1\n",
    "M_idx  = Int.(conditions₀[:,\"idx\"])\n",
    "\n",
    "compartments = zeros(Float64, G, M, V, N);\n",
    "compartments[:, M_idx, V_idx, A₀_idx] .= seeds_age_ratio .* transpose(conditions₀[:,\"seed\"])\n",
    "\n",
    "output_fname = \"../test/initial_condition.nc\"\n",
    "\n",
    "isfile(output_fname) && rm(output_fname)\n",
    "nccreate(output_fname, \"data\", \"G\", G_coords, \"M\", M_coords, \"V\", V_coords, \"epi_states\", comp_coords)\n",
    "ncwrite(compartments, output_fname, \"data\")\n",
    "\n",
    "\n",
    "# sum(transpose(seeds_age_ratio))"
   ]
  }
 ],
 "metadata": {
  "kernelspec": {
   "display_name": "Julia 1.9.3",
   "language": "julia",
   "name": "julia-1.9"
  },
  "language_info": {
   "file_extension": ".jl",
   "mimetype": "application/julia",
   "name": "julia",
   "version": "1.9.3"
  }
 },
 "nbformat": 4,
 "nbformat_minor": 5
}
