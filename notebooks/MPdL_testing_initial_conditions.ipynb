{
 "cells": [
  {
   "cell_type": "code",
   "execution_count": 2,
   "id": "7a43ecd9-8221-4811-a937-a7cfe73391e0",
   "metadata": {},
   "outputs": [
    {
     "data": {
      "text/plain": [
       "run_epidemic_spreading_mmca!"
      ]
     },
     "execution_count": 2,
     "metadata": {},
     "output_type": "execute_result"
    }
   ],
   "source": [
    "using Printf\n",
    "using ArgParse\n",
    "using Logging\n",
    "\n",
    "using Dates\n",
    "using CSV\n",
    "using NPZ\n",
    "using JSON\n",
    "using HDF5\n",
    "using DataStructures\n",
    "using DelimitedFiles\n",
    "using DataFrames\n",
    "using NetCDF\n",
    "\n",
    "\n",
    "base_folder = \"..\"\n",
    "\n",
    "include(joinpath(base_folder, \"MMCAcovid19_vac/markov_vac_aux.jl\"))\n",
    "include(joinpath(base_folder, \"MMCAcovid19_vac/markov_vac_io.jl\"))\n",
    "include(joinpath(base_folder, \"MMCAcovid19_vac/markov_vac.jl\"))"
   ]
  },
  {
   "cell_type": "code",
   "execution_count": 3,
   "id": "b18c5223-639f-45c7-afee-a066ac8787a0",
   "metadata": {},
   "outputs": [
    {
     "data": {
      "text/plain": [
       "\"netcdf\""
      ]
     },
     "execution_count": 3,
     "metadata": {},
     "output_type": "execute_result"
    }
   ],
   "source": [
    "data_folder  = \"../data/\"\n",
    "config_fname = \"../test/config_test.json\"\n",
    "output_folder = \"./\"\n",
    "seeds_fname   = \"../data/A0_initial_conditions.csv\"\n",
    "\n",
    "config          = JSON.parsefile(config_fname);\n",
    "data_dict       = config[\"data\"]\n",
    "pop_params_dict = config[\"population_params\"]\n",
    "epi_params_dict = config[\"epidemic_params\"]\n",
    "\n",
    "output_format = \"netcdf\""
   ]
  },
  {
   "cell_type": "code",
   "execution_count": 8,
   "id": "48cec76a-49d7-406f-86db-5cbaacf564f5",
   "metadata": {},
   "outputs": [
    {
     "data": {
      "text/plain": [
       "2-element Vector{String}:\n",
       " \"NV\"\n",
       " \"V\""
      ]
     },
     "execution_count": 8,
     "metadata": {},
     "output_type": "execute_result"
    }
   ],
   "source": [
    "# Reading metapopulation Dataframe\n",
    "metapop_data_filename = joinpath(data_folder, data_dict[\"metapopulation_data_filename\"])\n",
    "metapop_df            = CSV.read(metapop_data_filename, DataFrame)\n",
    "\n",
    "# Loading metapopulation patches info (surface, label, population by age)\n",
    "metapop_data_filename = joinpath(data_folder, data_dict[\"metapopulation_data_filename\"])\n",
    "metapop_df = CSV.read(metapop_data_filename, DataFrame)\n",
    "\n",
    "# Loading mobility network\n",
    "mobility_matrix_filename = joinpath(data_folder, data_dict[\"mobility_matrix_filename\"])\n",
    "network_df  = CSV.read(mobility_matrix_filename, DataFrame)\n",
    "\n",
    "# Metapopulations patches coordinates (labels)\n",
    "M_coords = map(String,metapop_df[:, \"id\"])\n",
    "M = length(M_coords)\n",
    "\n",
    "# Coordinates for each age strata (labels)\n",
    "G_coords = map(String, pop_params_dict[\"age_labels\"])\n",
    "G = length(G_coords)\n",
    "\n",
    "T = 1\n",
    "\n",
    "# Num. of vaccination statuses Vaccinated/Non-vaccinated\n",
    "population = init_pop_param_struct(G, M, G_coords, pop_params_dict, metapop_df, network_df)\n",
    "epi_params = init_epi_parameters_struct(G, M, T, G_coords, epi_params_dict)\n",
    "\n",
    "V = epi_params.V\n",
    "N = epi_params.NumComps\n",
    "comp_coords = epi_params.CompLabels\n",
    "V_coords = [\"NV\", \"V\"]"
   ]
  },
  {
   "cell_type": "code",
   "execution_count": 44,
   "id": "fb63ff95-69b7-4358-82bf-cc0e1374c5cb",
   "metadata": {},
   "outputs": [
    {
     "data": {
      "text/plain": [
       "3×2850 view(::Array{Float64, 4}, :, :, 1, 3) with eltype Float64:\n",
       " 0.0  0.0  0.0  0.0  0.0  0.0  0.0  0.0  …  0.0  0.0  0.0  0.0  0.0  0.0  0.0\n",
       " 0.0  0.0  0.0  0.0  0.0  0.0  0.0  0.0     0.0  0.0  0.0  0.0  0.0  0.0  0.0\n",
       " 0.0  0.0  0.0  0.0  0.0  0.0  0.0  0.0     0.0  0.0  0.0  0.0  0.0  0.0  0.0"
      ]
     },
     "execution_count": 44,
     "metadata": {},
     "output_type": "execute_result"
    }
   ],
   "source": [
    "# Loading initial \n",
    "conditions₀ = CSV.read(seeds_fname, DataFrame);\n",
    "\n",
    "M_idx  = Int.(conditions₀[:,\"idx\"])\n",
    "conditions₀ = Int64.(round.(conditions₀[:,\"seed\"]))\n",
    "\n",
    "seeds_age_ratio = pop_params_dict[\"seeds_age_ratio\"]\n",
    "\n",
    "S₀_idx = 1\n",
    "A₀_idx = 3\n",
    "V_idx  = 1\n",
    "\n",
    "A₀ = zeros(Float64, G, M);\n",
    "A₀[:, M_idx] .= seeds_age_ratio .* transpose(conditions₀)\n",
    "S₀ = population.nᵢᵍ .- A₀\n",
    "\n",
    "compartments = zeros(Float64, G, M, V, N);\n",
    "compartments[:, :, V_idx, S₀_idx] .= S₀\n",
    "compartments[:, :, V_idx, A₀_idx] .= A₀"
   ]
  },
  {
   "cell_type": "code",
   "execution_count": 45,
   "id": "a3cb911f-8078-4630-8225-8da4b92f7152",
   "metadata": {},
   "outputs": [
    {
     "ename": "LoadError",
     "evalue": "syntax: incomplete: premature end of input",
     "output_type": "error",
     "traceback": [
      "syntax: incomplete: premature end of input",
      "",
      "Stacktrace:",
      " [1] top-level scope",
      "   @ In[45]:4"
     ]
    }
   ],
   "source": [
    "output_fname = joinpath(output_folder, \"initial_condition.nc\")\n",
    "\n",
    "isfile(output_fname) && rm(output_fname)\n",
    "if output_format == \"netcdf\"\n",
    "    nccreate(output_fname, \"data\", \"G\", G_coords, \"M\", M_coords, \"V\", V_coords, \"epi_states\", comp_coords)\n",
    "    ncwrite(compartments, output_fname, \"data\")\n",
    "elseif output_format == \"netcdf\"\n",
    "    output_fname = joinpath(output_folder, \"initial_condition.h5\")\n",
    "    isfile(output_fname) && rm(output_fname)\n",
    "    h5open(output_fname, \"w\") do file\n",
    "        write(file, \"data\", compartments)\n",
    "    end\n",
    "end\n",
    "    "
   ]
  },
  {
   "cell_type": "code",
   "execution_count": 61,
   "id": "fcedfb7a-f364-4b7b-a548-ca0163503651",
   "metadata": {},
   "outputs": [
    {
     "data": {
      "text/plain": [
       "128.07964628584256"
      ]
     },
     "execution_count": 61,
     "metadata": {},
     "output_type": "execute_result"
    }
   ],
   "source": [
    "T = 100\n",
    "\n",
    "# Num. of vaccination statuses Vaccinated/Non-vaccinated\n",
    "population = init_pop_param_struct(G, M, G_coords, pop_params_dict, metapop_df, network_df)\n",
    "epi_params = init_epi_parameters_struct(G, M, T, G_coords, epi_params_dict)\n",
    "\n",
    "t₀ = 1\n",
    "\n",
    "for i in 1:2\n",
    "    epi_params.ρˢᵍᵥ[:,:,t₀,i]  .= compartments[:, :, i, 1] ./ population.nᵢᵍ\n",
    "    epi_params.ρᴱᵍᵥ[:,:,t₀,i]  .= compartments[:, :, i, 2] ./ population.nᵢᵍ\n",
    "    epi_params.ρᴬᵍᵥ[:,:,t₀,i]  .= compartments[:, :, i, 3] ./ population.nᵢᵍ\n",
    "    epi_params.ρᴵᵍᵥ[:,:,t₀,i]  .= compartments[:, :, i, 4] ./ population.nᵢᵍ\n",
    "    epi_params.ρᴾᴴᵍᵥ[:,:,t₀,i] .= compartments[:, :, i, 5] ./ population.nᵢᵍ\n",
    "    epi_params.ρᴾᴰᵍᵥ[:,:,t₀,i] .= compartments[:, :, i, 6] ./ population.nᵢᵍ\n",
    "    epi_params.ρᴴᴿᵍᵥ[:,:,t₀,i] .= compartments[:, :, i, 7] ./ population.nᵢᵍ\n",
    "    epi_params.ρᴴᴰᵍᵥ[:,:,t₀,i] .= compartments[:, :, i, 8] ./ population.nᵢᵍ\n",
    "    epi_params.ρᴿᵍᵥ[:,:,t₀,i]  .= compartments[:, :, i, 9] ./ population.nᵢᵍ\n",
    "    epi_params.ρᴰᵍᵥ[:,:,t₀,i]  .= compartments[:, :, i, 10] ./ population.nᵢᵍ\n",
    "end\n",
    "\n",
    "epi_params.ρˢᵍᵥ[isnan.(epi_params.ρˢᵍᵥ)]   .= 0\n",
    "epi_params.ρᴱᵍᵥ[isnan.(epi_params.ρᴱᵍᵥ)]   .= 0\n",
    "epi_params.ρᴬᵍᵥ[isnan.(epi_params.ρᴬᵍᵥ)]   .= 0\n",
    "epi_params.ρᴵᵍᵥ[isnan.(epi_params.ρᴵᵍᵥ)]   .= 0\n",
    "epi_params.ρᴾᴴᵍᵥ[isnan.(epi_params.ρᴾᴴᵍᵥ)] .= 0\n",
    "epi_params.ρᴾᴰᵍᵥ[isnan.(epi_params.ρᴾᴰᵍᵥ)] .= 0\n",
    "epi_params.ρᴴᴿᵍᵥ[isnan.(epi_params.ρᴴᴿᵍᵥ)] .= 0\n",
    "epi_params.ρᴴᴰᵍᵥ[isnan.(epi_params.ρᴴᴰᵍᵥ)] .= 0\n",
    "epi_params.ρᴿᵍᵥ[isnan.(epi_params.ρᴿᵍᵥ)]   .= 0\n",
    "epi_params.ρᴰᵍᵥ[isnan.(epi_params.ρᴰᵍᵥ)]   .= 0\n",
    "\n",
    "sum(epi_params.ρᴬᵍᵥ[3, :, 1, 1] .* population.nᵢᵍ[1,:])"
   ]
  }
 ],
 "metadata": {
  "kernelspec": {
   "display_name": "Julia 1.9.3",
   "language": "julia",
   "name": "julia-1.9"
  },
  "language_info": {
   "file_extension": ".jl",
   "mimetype": "application/julia",
   "name": "julia",
   "version": "1.9.3"
  }
 },
 "nbformat": 4,
 "nbformat_minor": 5
}
