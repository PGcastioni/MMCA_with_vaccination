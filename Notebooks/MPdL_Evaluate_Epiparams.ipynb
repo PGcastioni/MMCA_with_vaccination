{
 "cells": [
  {
   "cell_type": "code",
   "execution_count": 1,
   "id": "2ffceda4",
   "metadata": {
    "ExecuteTime": {
     "end_time": "2023-10-10T22:25:47.454000+02:00",
     "start_time": "2023-10-10T20:27:37.346Z"
    }
   },
   "outputs": [],
   "source": [
    "using DelimitedFiles\n",
    "using Statistics\n",
    "using DataFrames\n",
    "using CSV\n",
    "using Printf\n",
    "using DataStructures\n",
    "using Base.Threads\n",
    "using ProgressMeter\n",
    "using NPZ\n",
    "using ArgParse\n",
    "using JSON\n",
    "using Dates\n",
    "using ArgParse\n",
    "using HDF5\n",
    "#using NCDatasets\n",
    "using NetCDF"
   ]
  },
  {
   "cell_type": "code",
   "execution_count": 2,
   "id": "135f5f6b",
   "metadata": {},
   "outputs": [
    {
     "data": {
      "text/plain": [
       "run_epidemic_spreading_mmca!"
      ]
     },
     "metadata": {},
     "output_type": "display_data"
    }
   ],
   "source": [
    "base_folder = \"..\"\n",
    "\n",
    "include(joinpath(base_folder, \"MMCAcovid19_vac/markov_vac_aux.jl\"))\n",
    "include(joinpath(base_folder, \"MMCAcovid19_vac/markov_vac.jl\"))"
   ]
  },
  {
   "cell_type": "markdown",
   "id": "a016ca44",
   "metadata": {},
   "source": [
    "FUNCTIONS"
   ]
  },
  {
   "cell_type": "code",
   "execution_count": 3,
   "id": "84ca6db1",
   "metadata": {},
   "outputs": [
    {
     "data": {
      "text/plain": [
       "set_compartments! (generic function with 1 method)"
      ]
     },
     "metadata": {},
     "output_type": "display_data"
    }
   ],
   "source": [
    "function set_compartments!(epi_params, initial_compartments)\n",
    "    @assert size(initial_compartments) == (size(epi_params.ρˢᵍᵥ)[1], size(epi_params.ρˢᵍᵥ)[2], size(epi_params.ρˢᵍᵥ)[4], 10)\n",
    "    total_population = sum(initial_compartments, dims=(3))[:,:,1]\n",
    "    \n",
    "    # Index of the initial condition\n",
    "    T0 = 1\n",
    "    \n",
    "    epi_params.ρˢᵍᵥ[:,:,T0,:]  .= initial_compartments[:, :, T0, :, 1] ./ total_population\n",
    "    epi_params.ρᴱᵍᵥ[:,:,T0,:]  .= initial_compartments[:, :, T0, :, 2] ./ total_population\n",
    "    epi_params.ρᴬᵍᵥ[:,:,T0,:]  .= initial_compartments[:, :, T0, :, 3] ./ total_population\n",
    "    epi_params.ρᴵᵍᵥ[:,:,T0,:]  .= initial_compartments[:, :, T0, :, 4] ./ total_population\n",
    "    epi_params.ρᴾᴴᵍᵥ[:,:,T0,:] .= initial_compartments[:, :, T0, :, 5] ./ total_population\n",
    "    epi_params.ρᴾᴰᵍᵥ[:,:,T0,:] .= initial_compartments[:, :, T0, :, 6] ./ total_population\n",
    "    epi_params.ρᴴᴿᵍᵥ[:,:,T0,:] .= initial_compartments[:, :, T0, :, 7] ./ total_population\n",
    "    epi_params.ρᴴᴰᵍᵥ[:,:,T0,:] .= initial_compartments[:, :, T0, :, 8] ./ total_population\n",
    "    epi_params.ρᴿᵍᵥ[:,:,T0,:]  .= initial_compartments[:, :, T0, :, 9] ./ total_population\n",
    "    epi_params.ρᴰᵍᵥ[:,:,T0,:]  .= initial_compartments[:, :, T0, :, 10] ./ total_population\n",
    "\n",
    "    epi_params.ρˢᵍᵥ[isnan.(epi_params.ρˢᵍᵥ)] .= 0\n",
    "    epi_params.ρᴱᵍᵥ[isnan.(epi_params.ρᴱᵍᵥ)] .= 0\n",
    "    epi_params.ρᴬᵍᵥ[isnan.(epi_params.ρᴬᵍᵥ)] .= 0\n",
    "    epi_params.ρᴵᵍᵥ[isnan.(epi_params.ρᴵᵍᵥ)] .= 0\n",
    "    epi_params.ρᴾᴴᵍᵥ[isnan.(epi_params.ρᴾᴴᵍᵥ)] .= 0\n",
    "    epi_params.ρᴾᴰᵍᵥ[isnan.(epi_params.ρᴾᴰᵍᵥ)] .= 0\n",
    "    epi_params.ρᴴᴿᵍᵥ[isnan.(epi_params.ρᴴᴿᵍᵥ)] .= 0\n",
    "    epi_params.ρᴴᴰᵍᵥ[isnan.(epi_params.ρᴴᴰᵍᵥ)] .= 0\n",
    "    epi_params.ρᴿᵍᵥ[isnan.(epi_params.ρᴿᵍᵥ)] .= 0\n",
    "    epi_params.ρᴰᵍᵥ[isnan.(epi_params.ρᴰᵍᵥ)] .= 0\n",
    "end"
   ]
  },
  {
   "cell_type": "code",
   "execution_count": 4,
   "id": "f0c2e539",
   "metadata": {},
   "outputs": [
    {
     "data": {
      "text/plain": [
       "run_simu_params! (generic function with 1 method)"
      ]
     },
     "metadata": {},
     "output_type": "display_data"
    }
   ],
   "source": [
    "function run_simu_params!(epi_params::Epidemic_Params,\n",
    "                          population::Population_Params,\n",
    "                          paramsDF::DataFrame,\n",
    "                          indx_id::Int64,\n",
    "                          E₀::Array{Float64, 2},\n",
    "                          A₀::Array{Float64, 2},\n",
    "                          I₀::Array{Float64, 2},\n",
    "                          H₀::Array{Float64, 2},\n",
    "                          R₀::Array{Float64, 2},\n",
    "                          Sᵛ₀::Array{Float64, 2},\n",
    "                          compartments::Union{Nothing, Array{Float64, 6}})\n",
    "\n",
    "    # Loading parameters from DF\n",
    "    id, P, β, scale_β, τ_inc, scale_ea, τᵢ, δ, ϕ, scale₀ = paramsDF[indx_id, :]\n",
    "\n",
    "    # Set epidemic params to the ones speficied on the DF\n",
    "    epi_params.βᴬ .= scale_β * β\n",
    "    epi_params.βᴵ .= β\n",
    "    epi_params.ηᵍ .= 1.0/(τ_inc * (1.0 - scale_ea))\n",
    "    epi_params.αᵍ .= [1.0/(τᵢ - 1 + τ_inc * scale_ea),\n",
    "                      1.0/(τ_inc * scale_ea),\n",
    "                      1.0/(τ_inc * scale_ea)]\n",
    "    epi_params.μᵍ .= [1.0, 1.0/τᵢ, 1.0/τᵢ]\n",
    "\n",
    "\n",
    "    # Rescaling the initial number of asymptomatic\n",
    "    scaled_A₀ = scale₀ .* A₀\n",
    "\n",
    "    #descomentado\n",
    "    # Set containment parameters\n",
    "    ϕs .= ϕ\n",
    "    δs .= δ\n",
    "\n",
    "    # Reset compartments\n",
    "    reset_params!(epi_params, population)\n",
    "    \n",
    "    if initial_compartments != nothing\n",
    "        set_compartments!(epi_params, initial_compartments)\n",
    "    else\n",
    "        set_initial_conditions!(epi_params, population, Sᵛ₀, E₀, scaled_A₀, I₀, H₀, R₀)\n",
    "    end\n",
    "\n",
    "    \n",
    "    ## RUN EPIDEMIC SPREADING\n",
    "    run_epidemic_spreading_mmca!(epi_params, population, tᶜs, tᵛs, κ₀s, ϕs, δs, ϵᵍs; verbose = true )\n",
    "    \n",
    "    # Store compartments to later export (can't write to disk here, hdf5 is not thread safe)\n",
    "    if export_compartments\n",
    "        compartments[:, :, :, :, 1, indx_id]  .= epi_params.ρˢᵍᵥ .* population.nᵢᵍ\n",
    "        compartments[:, :, :, :, 2, indx_id]  .= epi_params.ρᴱᵍᵥ .* population.nᵢᵍ\n",
    "        compartments[:, :, :, :, 3, indx_id]  .= epi_params.ρᴬᵍᵥ .* population.nᵢᵍ\n",
    "        compartments[:, :, :, :, 4, indx_id]  .= epi_params.ρᴵᵍᵥ .* population.nᵢᵍ\n",
    "        compartments[:, :, :, :, 5, indx_id]  .= epi_params.ρᴾᴴᵍᵥ .* population.nᵢᵍ\n",
    "        compartments[:, :, :, :, 6, indx_id]  .= epi_params.ρᴾᴰᵍᵥ .* population.nᵢᵍ\n",
    "        compartments[:, :, :, :, 7, indx_id]  .= epi_params.ρᴴᴿᵍᵥ .* population.nᵢᵍ\n",
    "        compartments[:, :, :, :, 8, indx_id]  .= epi_params.ρᴴᴰᵍᵥ .* population.nᵢᵍ\n",
    "        compartments[:, :, :, :, 9, indx_id]  .= epi_params.ρᴿᵍᵥ .* population.nᵢᵍ\n",
    "        compartments[:, :, :, :, 10, indx_id] .= epi_params.ρᴰᵍᵥ .* population.nᵢᵍ\n",
    "    end\n",
    "    # PIER: if we want to save just the age, location and time infos we have to use\n",
    "    # compartments[:, :, :, :, 1, indx_id] .= sum( epi_params.ρˢᵍᵥ .* population.nᵢᵍ, dims=(4) )[:,:,:,1]\n",
    "end"
   ]
  },
  {
   "cell_type": "code",
   "execution_count": 5,
   "id": "133ada8c",
   "metadata": {
    "ExecuteTime": {
     "end_time": "2023-10-10T22:49:59.589000+02:00",
     "start_time": "2023-10-10T20:51:49.985Z"
    }
   },
   "outputs": [],
   "source": [
    "data_path = joinpath(base_folder,\"data/\")\n",
    "instance_path = joinpath(base_folder,\"test\")\n",
    "\n",
    "# Output simulation\n",
    "output_path = joinpath(instance_path, \"output\")\n",
    "\n",
    "\n",
    "config_fname = joinpath(instance_path, \"config.json\")\n",
    "config = JSON.parsefile(config_fname);\n",
    "\n",
    "fitting_params_fname = joinpath(instance_path, \"fitting_parameters.json\")\n",
    "fitting_params = JSON.parsefile(fitting_params_fname)\n",
    "\n",
    "vacparams_dict = config[\"vaccination\"]\n",
    "npiparams_dict = config[\"NPI\"]\n",
    "epiparams_dict = config[\"model\"]\n",
    "\n",
    "first_day = Date(config[\"simulation\"][\"first_day_simulation\"])\n",
    "last_day = Date(config[\"simulation\"][\"last_day_simulation\"])\n",
    "\n",
    "\n",
    "\n",
    "T = (last_day - first_day).value + 1\n",
    "\n",
    "A0_instance_filename = get(config[\"simulation\"], \"A0_filename\", nothing)\n",
    "A0_instance_filename = joinpath(instance_path, A0_instance_filename)\n",
    "\n",
    "initial_compartments_path = get(config[\"simulation\"], \"initial_compartments\", nothing)\n",
    "\n",
    "if A0_instance_filename !== nothing && initial_compartments_path !== nothing\n",
    "    println(\"ERROR!!!\")\n",
    "end"
   ]
  },
  {
   "cell_type": "markdown",
   "id": "33d474a5",
   "metadata": {},
   "source": [
    "SIMULATION OUTPUT"
   ]
  },
  {
   "cell_type": "code",
   "execution_count": 6,
   "id": "bbdd5f8d",
   "metadata": {},
   "outputs": [
    {
     "name": "stdout",
     "output_type": "stream",
     "text": [
      "first_day_simulation = 2020-02-09"
     ]
    },
    {
     "name": "stdout",
     "output_type": "stream",
     "text": [
      "\n",
      "last_day_simulation = 2020-03-09\n",
      "export_compartments = true\n",
      "export_compartments_full = true\n"
     ]
    },
    {
     "name": "stdout",
     "output_type": "stream",
     "text": [
      "export_compartments_time_t = nothing\n",
      "initial_compartments = nothing\n"
     ]
    },
    {
     "data": {
      "text/plain": [
       "10"
      ]
     },
     "metadata": {},
     "output_type": "display_data"
    }
   ],
   "source": [
    "export_compartments_full = get(config[\"simulation\"], \"export_compartments_full\", false)\n",
    "export_compartments_time_t = get(config[\"simulation\"], \"export_compartments_time_t\", nothing)\n",
    "\n",
    "if export_compartments_time_t != nothing\n",
    "    export_compartments_date = first_day + Day(export_compartments_time_t - 1)\n",
    "end\n",
    "\n",
    "if export_compartments_full || export_compartments_time_t != nothing\n",
    "    export_compartments = true\n",
    "else\n",
    "    export_compartments = false\n",
    "end\n",
    "\n",
    "println(\"first_day_simulation = \", first_day)\n",
    "println(\"last_day_simulation = \", last_day)\n",
    "println(\"export_compartments = \", export_compartments)\n",
    "println(\"export_compartments_full = \", export_compartments_full)\n",
    "println(\"export_compartments_time_t = \", export_compartments_time_t)\n",
    "println(\"initial_compartments = \", initial_compartments_path)\n",
    "\n",
    "num_compartments = 10"
   ]
  },
  {
   "cell_type": "code",
   "execution_count": 7,
   "id": "d017d7bb",
   "metadata": {
    "ExecuteTime": {
     "end_time": "2023-10-10T23:09:22.346000+02:00",
     "start_time": "2023-10-10T21:11:12.798Z"
    }
   },
   "outputs": [
    {
     "data": {
      "text/plain": [
       "2-element Vector{Float64}:\n",
       " 0.0\n",
       " 0.4"
      ]
     },
     "metadata": {},
     "output_type": "display_data"
    }
   ],
   "source": [
    "# Patch surface\n",
    "sᵢ = CSV.read(joinpath(data_path, config[\"data\"][\"surface_filename\"]), DataFrame)[:,\"area\"]\n",
    "# Population info\n",
    "nᵢ_ages = CSV.read(joinpath(data_path, config[\"data\"][\"population_age_filename\"], ), DataFrame);\n",
    "# Patch population by age\n",
    "nᵢᵍ = copy(transpose(Array{Float64,2}(nᵢ_ages[:,epiparams_dict[\"age_labels\"]])))\n",
    "# Total patch population\n",
    "nᵢ = Array{Float64,1}(nᵢ_ages[:,\"Total\"])\n",
    "# Total population\n",
    "total_population = sum(nᵢ)\n",
    "\n",
    "# Age Contact Matrix\n",
    "C = readdlm(joinpath(data_path, config[\"data\"][\"contact_matrix_filename\"]), ',', Float64)\n",
    "# Num. of patches\n",
    "M = length(nᵢ)\n",
    "# Num of stratas\n",
    "G = size(C)[1]\n",
    "# Num. of vaccination statuses Vaccinated/Non-vaccinated\n",
    "V = length(epiparams_dict[\"kᵥ\"])\n",
    "\n",
    "\n",
    "# Loading mobility network\n",
    "network = CSV.read(joinpath(data_path, config[\"data\"][\"mobility_matrix_filename\"]), DataFrame)\n",
    "edgelist = Array{Int64, 2}(network[:, 1:2])\n",
    "Rᵢⱼ = copy(network[:, 3])\n",
    "# Correcting Self Loops\n",
    "edgelist, Rᵢⱼ = correct_self_loops(edgelist, Rᵢⱼ, M)\n",
    "\n",
    "\n",
    "## EPIDEMIC PARAMETERS HUMAN BEHAVIOUR\n",
    "# Average number of contacts per strata\n",
    "kᵍ = Float64.(epiparams_dict[\"kᵍ\"])\n",
    "# Average number of contacts at home per strata\n",
    "kᵍ_h = Float64.(epiparams_dict[\"kᵍ_h\"])\n",
    "# Average number of contacts at work per strata\n",
    "kᵍ_w = Float64.(epiparams_dict[\"kᵍ_w\"])\n",
    "# Degree of mobility per strata\n",
    "pᵍ = Float64.(epiparams_dict[\"pᵍ\"])\n",
    "# Density factor\n",
    "ξ = epiparams_dict[\"σ\"]\n",
    "# Average household size\n",
    "σ = epiparams_dict[\"σ\"]\n",
    "# Check network structure and self-loop correction\n",
    "\n",
    "\n",
    "## EPIDEMIC PARAMETERS TRANSITION RATES\n",
    "# Scaling of the asymptomatic infectivity\n",
    "scale_β = epiparams_dict[\"scale_β\"]\n",
    "# Infectivity of Symptomatic\n",
    "βᴵ = epiparams_dict[\"βᴵ\"]\n",
    "# Infectivity of Asymptomatic\n",
    "βᴬ = scale_β * βᴵ\n",
    "# Exposed rate\n",
    "ηᵍ = Float64.(epiparams_dict[\"ηᵍ\"])\n",
    "# Asymptomatic rate\n",
    "αᵍ = Float64.(epiparams_dict[\"αᵍ\"])\n",
    "# Infectious rate\n",
    "μᵍ = Float64.(epiparams_dict[\"μᵍ\"])\n",
    "\n",
    "\n",
    "## EPIDEMIC PARAMETERS TRANSITION RATES VACCINATION\n",
    "# Direct death probability\n",
    "θᵍ = Float64.(reduce(hcat, [epiparams_dict[\"θᵍ\"], epiparams_dict[\"θᵍ\"] * epiparams_dict[\"risk_reduction_dd\"]]) )\n",
    "# Hospitalization probability\n",
    "γᵍ = Float64.(reduce(hcat, [epiparams_dict[\"γᵍ\"], epiparams_dict[\"γᵍ\"] * epiparams_dict[\"risk_reduction_h\"]]) )\n",
    "# Fatality probability in ICU\n",
    "ωᵍ = Float64.(reduce(hcat, [epiparams_dict[\"ωᵍ\"], epiparams_dict[\"ωᵍ\"] * epiparams_dict[\"risk_reduction_d\"]]) )\n",
    "# Pre-deceased rate\n",
    "ζᵍ = Float64.(epiparams_dict[\"ζᵍ\"])\n",
    "# Pre-hospitalized in ICU rate\n",
    "λᵍ = Float64.(epiparams_dict[\"λᵍ\"])\n",
    "# Death rate in ICU\n",
    "ψᵍ = Float64.(epiparams_dict[\"ψᵍ\"])\n",
    "# ICU discharge rate\n",
    "χᵍ = Float64.(epiparams_dict[\"χᵍ\"])\n",
    "\n",
    "# Waning immunity rate \n",
    "Λ = epiparams_dict[\"Λ\"] \n",
    "# Reinfection rate\n",
    "Γ = epiparams_dict[\"Γ\"] \n",
    "# Relative risk reduction of the probability of infection\n",
    "rᵥ = Float64.(epiparams_dict[\"rᵥ\"])\n",
    "# Relative risk reduction of the probability of transmission\n",
    "kᵥ = Float64.(epiparams_dict[\"kᵥ\"])"
   ]
  },
  {
   "cell_type": "code",
   "execution_count": 8,
   "id": "b3d28946",
   "metadata": {
    "ExecuteTime": {
     "end_time": "2023-10-10T23:07:17.674000+02:00",
     "start_time": "2023-10-10T21:09:08.163Z"
    }
   },
   "outputs": [
    {
     "name": "stdout",
     "output_type": "stream",
     "text": [
      "M = 2850\n",
      "G = 3\n",
      "T = 30\n",
      "V = 2\n",
      "num_compartments : 10\n"
     ]
    }
   ],
   "source": [
    "println(\"M = \", M)\n",
    "println(\"G = \", G)\n",
    "println(\"T = \", T)\n",
    "println(\"V = \", V)\n",
    "println(\"num_compartments : \", num_compartments)"
   ]
  },
  {
   "cell_type": "code",
   "execution_count": 9,
   "id": "d85a2f54",
   "metadata": {
    "ExecuteTime": {
     "end_time": "2023-10-10T22:43:18.952000+02:00",
     "start_time": "2023-10-10T20:45:09.440Z"
    }
   },
   "outputs": [
    {
     "data": {
      "text/plain": [
       "3×3 Matrix{Float64}:\n",
       " 0.0  23189.1        0.0\n",
       " 0.0  92756.4        0.0\n",
       " 0.0      1.15946e5  0.0"
      ]
     },
     "metadata": {},
     "output_type": "display_data"
    }
   ],
   "source": [
    "#########################################################\n",
    "# Vaccination parameters\n",
    "#########################################################\n",
    "\n",
    "# vaccionation dates\n",
    "start_vacc = vacparams_dict[\"start_vacc\"]\n",
    "dur_vacc   = vacparams_dict[\"dur_vacc\"]\n",
    "end_vacc   = start_vacc + dur_vacc\n",
    "\n",
    "# total vaccinations per age strata\n",
    "ϵᵍ = vacparams_dict[\"ϵᵍ\"] * round( total_population * vacparams_dict[\"percentage_of_vacc_per_day\"] )\n",
    "\n",
    "tᵛs = [start_vacc, end_vacc, T]\n",
    "ϵᵍs = ϵᵍ .* [0  Int(vacparams_dict[\"are_there_vaccines\"])  0] "
   ]
  },
  {
   "cell_type": "code",
   "execution_count": 10,
   "id": "0fe9acd9",
   "metadata": {
    "ExecuteTime": {
     "end_time": "2023-10-10T22:46:35.679000+02:00",
     "start_time": "2023-10-10T20:48:26.059Z"
    }
   },
   "outputs": [
    {
     "data": {
      "text/plain": [
       "1-element Vector{Float64}:\n",
       " 0.8"
      ]
     },
     "metadata": {},
     "output_type": "display_data"
    }
   ],
   "source": [
    "#########################################################\n",
    "# Containement measures\n",
    "#########################################################\n",
    "\n",
    "# Mobility reduction\n",
    "κ₀_df = CSV.read(joinpath(data_path, config[\"data\"][\"kappa0_filename\"]), DataFrame);\n",
    "\n",
    "# syncronize containment measures with simulation\n",
    "κ₀_df.time = map(x -> (x .- first_day).value + 1, κ₀_df.date)\n",
    "\n",
    "# Timesteps when the containment measures will be applied\n",
    "tᶜs = Int64.(npiparams_dict[\"tᶜs\"])\n",
    "\n",
    "# Array of level of confinement\n",
    "# κ₀s = κ₀_df.reduction[:]\n",
    "κ₀s = Float64.(npiparams_dict[\"κ₀s\"])\n",
    "# Array of premeabilities of confined households\n",
    "ϕs = Float64.(npiparams_dict[\"ϕs\"])\n",
    "# Array of social distancing measures\n",
    "δs = Float64.(npiparams_dict[\"δs\"])"
   ]
  },
  {
   "cell_type": "markdown",
   "id": "fd21b95d",
   "metadata": {},
   "source": [
    "INITIALIZATION OF THE EPIDEMICS"
   ]
  },
  {
   "cell_type": "code",
   "execution_count": 11,
   "id": "6f4db611",
   "metadata": {
    "ExecuteTime": {
     "end_time": "2023-10-10T23:07:52.971000+02:00",
     "start_time": "2023-10-10T21:09:43.449Z"
    }
   },
   "outputs": [
    {
     "name": "stdout",
     "output_type": "stream",
     "text": [
      "Total population = 4.6378115e7\n"
     ]
    }
   ],
   "source": [
    "# Load initial conditions\n",
    "if initial_compartments_path != nothing\n",
    "    # use initial compartments matrix to initialize simulations\n",
    "    initial_compartments = h5open(initial_compartments_path, \"r\") do file\n",
    "        read(file, \"compartments\")\n",
    "    end\n",
    "else\n",
    "    # use seeds to initialize simulations\n",
    "    initial_compartments = nothing\n",
    "end\n",
    "\n",
    "# Initial seeds (intial condition at the begining of the pandemic)\n",
    "conditions₀ = CSV.read(A0_instance_filename, DataFrame)\n",
    "\n",
    "####################################\n",
    "## INITIALIZATION OF THE EPIDEMICS\n",
    "####################################\n",
    "\n",
    "Sᵛ₀ = zeros(Float64,G, M)\n",
    "E₀ = zeros(Float64, G, M) # Initial number of exposed individuals\n",
    "A₀ = zeros(Float64, G, M) # Initial number of infectious asymptomatic individuals\n",
    "I₀ = zeros(Float64, G, M)\n",
    "H₀ = zeros(Float64, G, M)\n",
    "R₀ = zeros(Float64, G, M)\n",
    "\n",
    "if A0_instance_filename !== nothing\n",
    "\n",
    "    # Initial number of infectious asymptomatic individuals\n",
    "    # use seeds to initialize simulations\n",
    "    conditions₀ = CSV.read(A0_instance_filename, DataFrame)        \n",
    "    \n",
    "    A₀[1, Int.(conditions₀[:,\"idx\"])] .= 0.12 .* conditions₀[:,\"seed\"]\n",
    "    A₀[2, Int.(conditions₀[:,\"idx\"])] .= 0.16 .* conditions₀[:,\"seed\"]\n",
    "    A₀[3, Int.(conditions₀[:,\"idx\"])] .= 0.72 .* conditions₀[:,\"seed\"]\n",
    "\n",
    "    \n",
    "else\n",
    "    E₀ = nᵢᵍ / total_population * 1000\n",
    "    A₀ = nᵢᵍ / total_population * 1000\n",
    "    I₀ = nᵢᵍ / total_population * 1000    \n",
    "end\n",
    "\n",
    "println(\"Total population = \", total_population)"
   ]
  },
  {
   "cell_type": "markdown",
   "id": "442fa1cd",
   "metadata": {},
   "source": [
    "SETTING UP SIMULATION VARIABLES"
   ]
  },
  {
   "cell_type": "code",
   "execution_count": 12,
   "id": "d99aad9b",
   "metadata": {
    "ExecuteTime": {
     "end_time": "2023-10-10T23:07:08.200000+02:00",
     "start_time": "2023-10-10T21:08:58.663Z"
    }
   },
   "outputs": [
    {
     "name": "stdout",
     "output_type": "stream",
     "text": [
      "total_simulations : 1\n"
     ]
    },
    {
     "data": {
      "text/plain": [
       "(3, 2850, 30, 2, 10, 1)"
      ]
     },
     "metadata": {},
     "output_type": "display_data"
    }
   ],
   "source": [
    "# Parameters to simulate\n",
    "paramsDF = CSV.read(joinpath(instance_path, fitting_params[\"parameters_filename\"]), DataFrame)\n",
    "\n",
    "total_simulations = length(paramsDF.id)\n",
    "println(\"total_simulations : \", total_simulations)\n",
    "\n",
    "compartments = zeros(Float64, G, M, T, V, num_compartments, total_simulations);\n",
    "size(compartments)\n",
    "\n"
   ]
  },
  {
   "cell_type": "markdown",
   "id": "0835e6e0",
   "metadata": {},
   "source": [
    "SETTING UP THE THREADING VARIABLES"
   ]
  },
  {
   "cell_type": "code",
   "execution_count": 13,
   "id": "bc4fd874",
   "metadata": {
    "ExecuteTime": {
     "end_time": "2023-10-10T23:09:29.297000+02:00",
     "start_time": "2023-10-10T21:11:19.701Z"
    }
   },
   "outputs": [
    {
     "name": "stdout",
     "output_type": "stream",
     "text": [
      "nThreads: 1\n"
     ]
    }
   ],
   "source": [
    "nThreads = nthreads();\n",
    "# nThreads = 1;\n",
    "println(\"nThreads: \", nThreads)\n",
    "flush(stdout)\n",
    "\n",
    "# Circular queues to optimize and reuse the population and epidemic structures\n",
    "populations = CircularDeque{Population_Params}(nThreads)\n",
    "epi_params = CircularDeque{Epidemic_Params}(nThreads)\n",
    "\n",
    "# Populate the circular deque\n",
    "for t in 1:nThreads\n",
    "    push!(populations, Population_Params(G, M, nᵢᵍ, kᵍ, kᵍ_h, kᵍ_w, C, pᵍ, edgelist, Rᵢⱼ, sᵢ, ξ, σ))\n",
    "    push!(epi_params, Epidemic_Params(βᴵ,  βᴬ, ηᵍ, αᵍ, μᵍ, θᵍ, γᵍ, ζᵍ, λᵍ, ωᵍ, ψᵍ, χᵍ,  Λ, Γ, rᵥ, kᵥ, G, M, T, V))\n",
    "end"
   ]
  },
  {
   "cell_type": "code",
   "execution_count": 14,
   "id": "ffb60d54",
   "metadata": {
    "ExecuteTime": {
     "end_time": "2023-10-10T22:13:02.057000+02:00",
     "start_time": "2023-10-10T20:14:52.345Z"
    }
   },
   "outputs": [
    {
     "data": {
      "text/plain": [
       "2850"
      ]
     },
     "metadata": {},
     "output_type": "display_data"
    }
   ],
   "source": [
    "# Patch to CCAA mapping matrix\n",
    "PatchToCCAA = npzread(joinpath(data_path, fitting_params[\"patch_to_ccaa_filename\"]))\n",
    "n_ccaa = size(PatchToCCAA)[1]\n",
    "n_patches = size(PatchToCCAA)[2]"
   ]
  },
  {
   "cell_type": "markdown",
   "id": "5d0da41f",
   "metadata": {},
   "source": [
    "RUN THE SIMULATION"
   ]
  },
  {
   "cell_type": "code",
   "execution_count": 15,
   "id": "7cc681ad",
   "metadata": {},
   "outputs": [
    {
     "name": "stdout",
     "output_type": "stream",
     "text": [
      "Time: 1, players: 46378115.00000, icus: 0.00, deaths: 0.00, vaccine_check: 0.000\n",
      "Time: 2, players: 46378115.00000, icus: 0.00, deaths: 0.00, vaccine_check: 0.000\n"
     ]
    },
    {
     "name": "stdout",
     "output_type": "stream",
     "text": [
      "Time: 3, players: 46378115.00000, icus: 0.00, deaths: 0.00, vaccine_check: 0.000\n",
      "Time: 4, players: 46378115.00000, icus: 1.66, deaths: 0.00, vaccine_check: 0.000\n"
     ]
    },
    {
     "name": "stdout",
     "output_type": "stream",
     "text": [
      "Time: 5, players: 46378115.00000, icus: 2.65, deaths: 0.07, vaccine_check: 0.000\n",
      "Time: 6, players: 46378115.00000, icus: 3.49, deaths: 0.17, vaccine_check: 0.000\n"
     ]
    },
    {
     "name": "stdout",
     "output_type": "stream",
     "text": [
      "Time: 7, players: 46378115.00000, icus: 4.24, deaths: 0.31, vaccine_check: 0.000\n",
      "Time: 8, players: 46378115.00000, icus: 5.04, deaths: 0.45, vaccine_check: 0.000\n"
     ]
    },
    {
     "name": "stdout",
     "output_type": "stream",
     "text": [
      "Time: 9, players: 46378115.00000, icus: 5.98, deaths: 0.62, vaccine_check: 0.000\n",
      "Time: 10, players: 46378115.00000, icus: 7.19, deaths: 0.80, vaccine_check: 0.000\n"
     ]
    },
    {
     "name": "stdout",
     "output_type": "stream",
     "text": [
      "Time: 11, players: 46378115.00000, icus: 8.83, deaths: 1.01, vaccine_check: 0.000\n",
      "Time: 12, players: 46378115.00000, icus: 11.11, deaths: 1.25, vaccine_check: 0.000\n"
     ]
    },
    {
     "name": "stdout",
     "output_type": "stream",
     "text": [
      "Time: 13, players: 46378115.00000, icus: 14.32, deaths: 1.53, vaccine_check: 0.000\n",
      "Time: 14, players: 46378115.00000, icus: 18.85, deaths: 1.89, vaccine_check: 0.000\n"
     ]
    },
    {
     "name": "stdout",
     "output_type": "stream",
     "text": [
      "Time: 15, players: 46378115.00000, icus: 25.25, deaths: 2.35, vaccine_check: 0.000\n",
      "Time: 16, players: 46378115.00000, icus: 34.28, deaths: 2.95, vaccine_check: 0.000\n"
     ]
    },
    {
     "name": "stdout",
     "output_type": "stream",
     "text": [
      "Time: 17, players: 46378115.00000, icus: 47.00, deaths: 3.77, vaccine_check: 0.000\n",
      "Time: 18, players: 46378115.00000, icus: 64.86, deaths: 4.89, vaccine_check: 0.000\n"
     ]
    },
    {
     "name": "stdout",
     "output_type": "stream",
     "text": [
      "Time: 19, players: 46378115.00000, icus: 89.91, deaths: 6.43, vaccine_check: 0.000\n",
      "Time: 20, players: 46378115.00000, icus: 125.00, deaths: 8.56, vaccine_check: 0.000\n"
     ]
    },
    {
     "name": "stdout",
     "output_type": "stream",
     "text": [
      "Time: 21, players: 46378115.00000, icus: 174.08, deaths: 11.54, vaccine_check: 0.000\n",
      "Time: 22, players: 46378115.00000, icus: 242.66, deaths: 15.69, vaccine_check: 0.000\n"
     ]
    },
    {
     "name": "stdout",
     "output_type": "stream",
     "text": [
      "Time: 23, players: 46378115.00000, icus: 338.39, deaths: 21.48, vaccine_check: 0.000\n",
      "Time: 24, players: 46378115.00000, icus: 471.92, deaths: 29.58, vaccine_check: 0.000\n"
     ]
    },
    {
     "name": "stdout",
     "output_type": "stream",
     "text": [
      "Time: 25, players: 46378115.00000, icus: 658.01, deaths: 40.88, vaccine_check: 0.000\n",
      "Time: 26, players: 46378115.00000, icus: 917.10, deaths: 56.66, vaccine_check: 0.000\n"
     ]
    },
    {
     "name": "stdout",
     "output_type": "stream",
     "text": [
      "Time: 27, players: 46378115.00000, icus: 1277.47, deaths: 78.67, vaccine_check: 0.000\n",
      "Time: 28, players: 46378115.00000, icus: 1778.11, deaths: 109.37, vaccine_check: 0.000\n"
     ]
    },
    {
     "name": "stdout",
     "output_type": "stream",
     "text": [
      "Time: 29, players: 46378115.00000, icus: 2472.58, deaths: 152.12, vaccine_check: 0.000\n",
      "Time: 30, players: 46378115.00000, icus: 3434.10, deaths: 211.62, vaccine_check: 0.000\n"
     ]
    }
   ],
   "source": [
    "# Setup progress bar\n",
    "p = Progress(total_simulations)\n",
    "\n",
    "# Circular Deque Lock\n",
    "lockS = SpinLock()\n",
    "\n",
    "# Run the simulation for all the parameters\n",
    "@threads for indx_id in 1:total_simulations\n",
    "    \n",
    "    # println(\"Thread: \", threadid(), \" row: \", indx_id)\n",
    "\n",
    "    # Lock the data structure\n",
    "    lock(lockS)\n",
    "\n",
    "    # Recover population and epidemic parameters\n",
    "    population = pop!(populations)\n",
    "    epi_param = pop!(epi_params)\n",
    "\n",
    "    # Unlock data structure\n",
    "    unlock(lockS)\n",
    "\n",
    "    # Run simu\n",
    "    run_simu_params!(epi_param,\n",
    "                     population,\n",
    "                     paramsDF,\n",
    "                     indx_id,\n",
    "                     E₀,\n",
    "                     A₀,\n",
    "                     I₀,\n",
    "                     H₀,\n",
    "                     R₀,\n",
    "                     Sᵛ₀,\n",
    "                     compartments)\n",
    "\n",
    "    # Lock the data structure\n",
    "    lock(lockS)\n",
    "\n",
    "    # Free population and epidemic parameters\n",
    "    push!(populations, population)\n",
    "    push!(epi_params, epi_param)\n",
    "\n",
    "    # Unlock data structure\n",
    "    unlock(lockS)\n",
    "\n",
    "    # Update progress bar\n",
    "    next!(p)\n",
    "    \n",
    "end"
   ]
  },
  {
   "cell_type": "markdown",
   "id": "fe957c09",
   "metadata": {},
   "source": [
    "STORING THE RESULTS"
   ]
  },
  {
   "cell_type": "code",
   "execution_count": 16,
   "id": "0ce79109",
   "metadata": {},
   "outputs": [],
   "source": [
    "#This creates a new NetCDF file\n",
    "#The mode \"c\" stands for creating a new file\n",
    "\n",
    "#NetCDF_file = Dataset(\"test.nc\",\"c\")\n",
    "\n",
    "#Define the dimension\n",
    "#defDim(NetCDF_file, \"G\", G)\n",
    "#defDim(NetCDF_file, \"M\", M)\n",
    "#defDim(NetCDF_file, \"T\", T)\n",
    "#defDim(NetCDF_file, \"V\", V)\n",
    "#defDim(NetCDF_file, \"num_comp\", num_compartments)\n",
    "\n",
    "#Define the variables \n",
    "#v = defVar(NetCDF_file,\"population\", Float64, (\"G\", \"M\", \"T\", \"V\", \"num_comp\"))\n",
    "#v1 = defVar(NetCDF_file,\"G\",Float64)\n",
    "#v2 = defVar(NetCDF_file,)\n",
    "#v3 =\n",
    "#v4 =\n",
    "#v5 = \n",
    "#G = dfVar\n",
    "\n",
    "#v[:,:,:,:,:] = compartments\n",
    "\n",
    "#close(NetCDF_file)"
   ]
  },
  {
   "cell_type": "code",
   "execution_count": 17,
   "metadata": {},
   "outputs": [
    {
     "data": {
      "text/plain": [
       "3-element Vector{String}:\n",
       " \"C\"\n",
       " \"A\"\n",
       " \"I\""
      ]
     },
     "metadata": {},
     "output_type": "display_data"
    }
   ],
   "source": [
    "G_dir = [\"C\", \"A\", \"I\"]\n"
   ]
  },
  {
   "cell_type": "code",
   "execution_count": 22,
   "id": "efefac7a",
   "metadata": {},
   "outputs": [],
   "source": [
    "#Define the coordinates\n",
    "G_dir = collect(1:G)\n",
    "#G_dir = [\"C\", \"A\", \"I\"]\n",
    "M_dir = collect(1:M)\n",
    "T_dir = collect(1:T)\n",
    "V_dir = collect(1:V)\n",
    "ncomp_dir = collect(1:num_compartments)\n",
    "\n",
    "#Atributes\n",
    "#G_atts = Dict(\"Age strata\")\n",
    "#M_atts = Dict(\"Number of patches\")\n",
    "#T_atts = Dict(\"number of time steps\")\n",
    "#V_atts = Dict(\"Vaccination\")\n",
    "#ncomp_atts = Dict(\"Number of compartments\")\n",
    "\n",
    "file = \"tes1.nc\"\n",
    "isfile(file) && rm(file)\n",
    "#nccreate(file, \"data\", \"G\", G_dir, G_atts, \"M\", M_dir, M_atts, \"T\", T_dir, T_atts, \"V\", V_dir, V_atts, \"n_comp\", ncomp_dir, ncomp_atts )\n",
    "nccreate(file, \"data\", \"G\", G_dir, \"M\", M_dir, \"T\", T_dir, \"V\", V_dir, \"n_comp\", ncomp_dir)\n",
    "\n",
    "ncwrite(compartments[:,:,:,:,:,1], file, \"data\")"
   ]
  },
  {
   "cell_type": "code",
   "execution_count": 19,
   "id": "050464bd",
   "metadata": {},
   "outputs": [
    {
     "name": "stdout",
     "output_type": "stream",
     "text": [
      "Storing results to: ../test/output\n",
      "Storing compartments\n"
     ]
    }
   ],
   "source": [
    "println(\"Storing results to: $output_path\")\n",
    "\n",
    "if !isdir(output_path)\n",
    "  mkpath(output_path)\n",
    "end\n",
    "\n",
    "\n",
    "\n",
    "# store compartments\n",
    "if export_compartments\n",
    "    println(\"Storing compartments\")\n",
    "    for i in 1:total_simulations\n",
    "\n",
    "        id = paramsDF[i, \"id\"]\n",
    "\n",
    "        if export_compartments_time_t != nothing\n",
    "            filename = joinpath(output_path, \"compartments_$(export_compartments_date)_$id.h5\")\n",
    "            # filename = joinpath(output_path, \"compartments_$(export_compartments_date):$(export_compartments_time_t)_$id.h5\")\n",
    "            h5open(filename, \"w\") do file\n",
    "                write(file, \"compartments\", compartments[:,:,export_compartments_time_t,:,:,i])\n",
    "            end\n",
    "        end\n",
    "\n",
    "        if export_compartments_full\n",
    "            filename = joinpath(output_path, \"compartments_full_$id.h5\")\n",
    "            h5open(filename, \"w\") do file\n",
    "                write(file, \"compartments\", compartments[:,:,:,:,:,i])\n",
    "            end\n",
    "        end\n",
    "    end\n",
    "end"
   ]
  },
  {
   "cell_type": "code",
   "execution_count": 20,
   "id": "d1fcbd68",
   "metadata": {},
   "outputs": [
    {
     "data": {
      "text/plain": [
       "(:buffer, :capacity, :n, :first, :last)"
      ]
     },
     "metadata": {},
     "output_type": "display_data"
    }
   ],
   "source": [
    "#push!(epi_params, epi_param)\n",
    "#epi_param = pop!(epi_params)\n",
    "fieldnames(typeof(epi_params))\n",
    "#epi_param.\"βᴵ\""
   ]
  },
  {
   "cell_type": "code",
   "execution_count": 21,
   "id": "968268e7",
   "metadata": {},
   "outputs": [],
   "source": []
  }
 ],
 "metadata": {
  "kernelspec": {
   "display_name": "Julia 1.9.2",
   "language": "julia",
   "name": "julia-1.9"
  },
  "language_info": {
   "file_extension": ".jl",
   "mimetype": "application/julia",
   "name": "julia",
   "version": "1.9.2"
  }
 },
 "nbformat": 4,
 "nbformat_minor": 5
}
